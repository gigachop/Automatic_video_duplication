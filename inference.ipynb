{
  "nbformat": 4,
  "nbformat_minor": 0,
  "metadata": {
    "colab": {
      "provenance": [],
      "gpuType": "T4",
      "collapsed_sections": [
        "8E-wLBKgZE59",
        "-fs2uteC6MJe"
      ]
    },
    "kernelspec": {
      "name": "python3",
      "display_name": "Python 3"
    },
    "language_info": {
      "name": "python"
    },
    "accelerator": "GPU",
    "widgets": {
      "application/vnd.jupyter.widget-state+json": {
        "fa8785f3e52c4c07b8125ae20943ab81": {
          "model_module": "@jupyter-widgets/controls",
          "model_name": "HBoxModel",
          "model_module_version": "1.5.0",
          "state": {
            "_dom_classes": [],
            "_model_module": "@jupyter-widgets/controls",
            "_model_module_version": "1.5.0",
            "_model_name": "HBoxModel",
            "_view_count": null,
            "_view_module": "@jupyter-widgets/controls",
            "_view_module_version": "1.5.0",
            "_view_name": "HBoxView",
            "box_style": "",
            "children": [
              "IPY_MODEL_2d18a92798544c378fbc6ce17050d353",
              "IPY_MODEL_40e4fef8dbdf4e14ba2fbb5f05f3f0fc",
              "IPY_MODEL_42e4393e91444f2f8bbf1b20668ce134"
            ],
            "layout": "IPY_MODEL_fce05481a61045159def814054426c5e"
          }
        },
        "2d18a92798544c378fbc6ce17050d353": {
          "model_module": "@jupyter-widgets/controls",
          "model_name": "HTMLModel",
          "model_module_version": "1.5.0",
          "state": {
            "_dom_classes": [],
            "_model_module": "@jupyter-widgets/controls",
            "_model_module_version": "1.5.0",
            "_model_name": "HTMLModel",
            "_view_count": null,
            "_view_module": "@jupyter-widgets/controls",
            "_view_module_version": "1.5.0",
            "_view_name": "HTMLView",
            "description": "",
            "description_tooltip": null,
            "layout": "IPY_MODEL_8aff800978214e798b67ee4c64255f1a",
            "placeholder": "​",
            "style": "IPY_MODEL_ae154825513542228f594bc8274b3f38",
            "value": "Downloading (…)37e8b/tokenizer.json: 100%"
          }
        },
        "40e4fef8dbdf4e14ba2fbb5f05f3f0fc": {
          "model_module": "@jupyter-widgets/controls",
          "model_name": "FloatProgressModel",
          "model_module_version": "1.5.0",
          "state": {
            "_dom_classes": [],
            "_model_module": "@jupyter-widgets/controls",
            "_model_module_version": "1.5.0",
            "_model_name": "FloatProgressModel",
            "_view_count": null,
            "_view_module": "@jupyter-widgets/controls",
            "_view_module_version": "1.5.0",
            "_view_name": "ProgressView",
            "bar_style": "success",
            "description": "",
            "description_tooltip": null,
            "layout": "IPY_MODEL_5a61de3d723c40e7b226e86150f8abcb",
            "max": 2203239,
            "min": 0,
            "orientation": "horizontal",
            "style": "IPY_MODEL_3711870463e64f8a93abd947724403f6",
            "value": 2203239
          }
        },
        "42e4393e91444f2f8bbf1b20668ce134": {
          "model_module": "@jupyter-widgets/controls",
          "model_name": "HTMLModel",
          "model_module_version": "1.5.0",
          "state": {
            "_dom_classes": [],
            "_model_module": "@jupyter-widgets/controls",
            "_model_module_version": "1.5.0",
            "_model_name": "HTMLModel",
            "_view_count": null,
            "_view_module": "@jupyter-widgets/controls",
            "_view_module_version": "1.5.0",
            "_view_name": "HTMLView",
            "description": "",
            "description_tooltip": null,
            "layout": "IPY_MODEL_5ea84380a05f4479b5cc88c9e48f4323",
            "placeholder": "​",
            "style": "IPY_MODEL_906185600d7243479b0253f26b5ad228",
            "value": " 2.20M/2.20M [00:00&lt;00:00, 9.96MB/s]"
          }
        },
        "fce05481a61045159def814054426c5e": {
          "model_module": "@jupyter-widgets/base",
          "model_name": "LayoutModel",
          "model_module_version": "1.2.0",
          "state": {
            "_model_module": "@jupyter-widgets/base",
            "_model_module_version": "1.2.0",
            "_model_name": "LayoutModel",
            "_view_count": null,
            "_view_module": "@jupyter-widgets/base",
            "_view_module_version": "1.2.0",
            "_view_name": "LayoutView",
            "align_content": null,
            "align_items": null,
            "align_self": null,
            "border": null,
            "bottom": null,
            "display": null,
            "flex": null,
            "flex_flow": null,
            "grid_area": null,
            "grid_auto_columns": null,
            "grid_auto_flow": null,
            "grid_auto_rows": null,
            "grid_column": null,
            "grid_gap": null,
            "grid_row": null,
            "grid_template_areas": null,
            "grid_template_columns": null,
            "grid_template_rows": null,
            "height": null,
            "justify_content": null,
            "justify_items": null,
            "left": null,
            "margin": null,
            "max_height": null,
            "max_width": null,
            "min_height": null,
            "min_width": null,
            "object_fit": null,
            "object_position": null,
            "order": null,
            "overflow": null,
            "overflow_x": null,
            "overflow_y": null,
            "padding": null,
            "right": null,
            "top": null,
            "visibility": null,
            "width": null
          }
        },
        "8aff800978214e798b67ee4c64255f1a": {
          "model_module": "@jupyter-widgets/base",
          "model_name": "LayoutModel",
          "model_module_version": "1.2.0",
          "state": {
            "_model_module": "@jupyter-widgets/base",
            "_model_module_version": "1.2.0",
            "_model_name": "LayoutModel",
            "_view_count": null,
            "_view_module": "@jupyter-widgets/base",
            "_view_module_version": "1.2.0",
            "_view_name": "LayoutView",
            "align_content": null,
            "align_items": null,
            "align_self": null,
            "border": null,
            "bottom": null,
            "display": null,
            "flex": null,
            "flex_flow": null,
            "grid_area": null,
            "grid_auto_columns": null,
            "grid_auto_flow": null,
            "grid_auto_rows": null,
            "grid_column": null,
            "grid_gap": null,
            "grid_row": null,
            "grid_template_areas": null,
            "grid_template_columns": null,
            "grid_template_rows": null,
            "height": null,
            "justify_content": null,
            "justify_items": null,
            "left": null,
            "margin": null,
            "max_height": null,
            "max_width": null,
            "min_height": null,
            "min_width": null,
            "object_fit": null,
            "object_position": null,
            "order": null,
            "overflow": null,
            "overflow_x": null,
            "overflow_y": null,
            "padding": null,
            "right": null,
            "top": null,
            "visibility": null,
            "width": null
          }
        },
        "ae154825513542228f594bc8274b3f38": {
          "model_module": "@jupyter-widgets/controls",
          "model_name": "DescriptionStyleModel",
          "model_module_version": "1.5.0",
          "state": {
            "_model_module": "@jupyter-widgets/controls",
            "_model_module_version": "1.5.0",
            "_model_name": "DescriptionStyleModel",
            "_view_count": null,
            "_view_module": "@jupyter-widgets/base",
            "_view_module_version": "1.2.0",
            "_view_name": "StyleView",
            "description_width": ""
          }
        },
        "5a61de3d723c40e7b226e86150f8abcb": {
          "model_module": "@jupyter-widgets/base",
          "model_name": "LayoutModel",
          "model_module_version": "1.2.0",
          "state": {
            "_model_module": "@jupyter-widgets/base",
            "_model_module_version": "1.2.0",
            "_model_name": "LayoutModel",
            "_view_count": null,
            "_view_module": "@jupyter-widgets/base",
            "_view_module_version": "1.2.0",
            "_view_name": "LayoutView",
            "align_content": null,
            "align_items": null,
            "align_self": null,
            "border": null,
            "bottom": null,
            "display": null,
            "flex": null,
            "flex_flow": null,
            "grid_area": null,
            "grid_auto_columns": null,
            "grid_auto_flow": null,
            "grid_auto_rows": null,
            "grid_column": null,
            "grid_gap": null,
            "grid_row": null,
            "grid_template_areas": null,
            "grid_template_columns": null,
            "grid_template_rows": null,
            "height": null,
            "justify_content": null,
            "justify_items": null,
            "left": null,
            "margin": null,
            "max_height": null,
            "max_width": null,
            "min_height": null,
            "min_width": null,
            "object_fit": null,
            "object_position": null,
            "order": null,
            "overflow": null,
            "overflow_x": null,
            "overflow_y": null,
            "padding": null,
            "right": null,
            "top": null,
            "visibility": null,
            "width": null
          }
        },
        "3711870463e64f8a93abd947724403f6": {
          "model_module": "@jupyter-widgets/controls",
          "model_name": "ProgressStyleModel",
          "model_module_version": "1.5.0",
          "state": {
            "_model_module": "@jupyter-widgets/controls",
            "_model_module_version": "1.5.0",
            "_model_name": "ProgressStyleModel",
            "_view_count": null,
            "_view_module": "@jupyter-widgets/base",
            "_view_module_version": "1.2.0",
            "_view_name": "StyleView",
            "bar_color": null,
            "description_width": ""
          }
        },
        "5ea84380a05f4479b5cc88c9e48f4323": {
          "model_module": "@jupyter-widgets/base",
          "model_name": "LayoutModel",
          "model_module_version": "1.2.0",
          "state": {
            "_model_module": "@jupyter-widgets/base",
            "_model_module_version": "1.2.0",
            "_model_name": "LayoutModel",
            "_view_count": null,
            "_view_module": "@jupyter-widgets/base",
            "_view_module_version": "1.2.0",
            "_view_name": "LayoutView",
            "align_content": null,
            "align_items": null,
            "align_self": null,
            "border": null,
            "bottom": null,
            "display": null,
            "flex": null,
            "flex_flow": null,
            "grid_area": null,
            "grid_auto_columns": null,
            "grid_auto_flow": null,
            "grid_auto_rows": null,
            "grid_column": null,
            "grid_gap": null,
            "grid_row": null,
            "grid_template_areas": null,
            "grid_template_columns": null,
            "grid_template_rows": null,
            "height": null,
            "justify_content": null,
            "justify_items": null,
            "left": null,
            "margin": null,
            "max_height": null,
            "max_width": null,
            "min_height": null,
            "min_width": null,
            "object_fit": null,
            "object_position": null,
            "order": null,
            "overflow": null,
            "overflow_x": null,
            "overflow_y": null,
            "padding": null,
            "right": null,
            "top": null,
            "visibility": null,
            "width": null
          }
        },
        "906185600d7243479b0253f26b5ad228": {
          "model_module": "@jupyter-widgets/controls",
          "model_name": "DescriptionStyleModel",
          "model_module_version": "1.5.0",
          "state": {
            "_model_module": "@jupyter-widgets/controls",
            "_model_module_version": "1.5.0",
            "_model_name": "DescriptionStyleModel",
            "_view_count": null,
            "_view_module": "@jupyter-widgets/base",
            "_view_module_version": "1.2.0",
            "_view_name": "StyleView",
            "description_width": ""
          }
        },
        "99bc58cb73ed4a9f980850408d3bc972": {
          "model_module": "@jupyter-widgets/controls",
          "model_name": "HBoxModel",
          "model_module_version": "1.5.0",
          "state": {
            "_dom_classes": [],
            "_model_module": "@jupyter-widgets/controls",
            "_model_module_version": "1.5.0",
            "_model_name": "HBoxModel",
            "_view_count": null,
            "_view_module": "@jupyter-widgets/controls",
            "_view_module_version": "1.5.0",
            "_view_name": "HBoxView",
            "box_style": "",
            "children": [
              "IPY_MODEL_9085a3c165cd48d881c5b076646c8266",
              "IPY_MODEL_74e26124e2d444c39d22a4451fb541af",
              "IPY_MODEL_21847e1d732d4878a7ce20ef3f0fc581"
            ],
            "layout": "IPY_MODEL_9b56ad941d264c3389bec57b09a5306b"
          }
        },
        "9085a3c165cd48d881c5b076646c8266": {
          "model_module": "@jupyter-widgets/controls",
          "model_name": "HTMLModel",
          "model_module_version": "1.5.0",
          "state": {
            "_dom_classes": [],
            "_model_module": "@jupyter-widgets/controls",
            "_model_module_version": "1.5.0",
            "_model_name": "HTMLModel",
            "_view_count": null,
            "_view_module": "@jupyter-widgets/controls",
            "_view_module_version": "1.5.0",
            "_view_name": "HTMLView",
            "description": "",
            "description_tooltip": null,
            "layout": "IPY_MODEL_3e9cb7cf876a480fab1443ac8e246dc6",
            "placeholder": "​",
            "style": "IPY_MODEL_093d106ef12042f4846bbb887c28bde5",
            "value": "Downloading (…)08837e8b/config.json: 100%"
          }
        },
        "74e26124e2d444c39d22a4451fb541af": {
          "model_module": "@jupyter-widgets/controls",
          "model_name": "FloatProgressModel",
          "model_module_version": "1.5.0",
          "state": {
            "_dom_classes": [],
            "_model_module": "@jupyter-widgets/controls",
            "_model_module_version": "1.5.0",
            "_model_name": "FloatProgressModel",
            "_view_count": null,
            "_view_module": "@jupyter-widgets/controls",
            "_view_module_version": "1.5.0",
            "_view_name": "ProgressView",
            "bar_style": "success",
            "description": "",
            "description_tooltip": null,
            "layout": "IPY_MODEL_6465517d639543f0b61de9f1172ae3ed",
            "max": 2796,
            "min": 0,
            "orientation": "horizontal",
            "style": "IPY_MODEL_b90c3b429731475e9217e0008fea0dfb",
            "value": 2796
          }
        },
        "21847e1d732d4878a7ce20ef3f0fc581": {
          "model_module": "@jupyter-widgets/controls",
          "model_name": "HTMLModel",
          "model_module_version": "1.5.0",
          "state": {
            "_dom_classes": [],
            "_model_module": "@jupyter-widgets/controls",
            "_model_module_version": "1.5.0",
            "_model_name": "HTMLModel",
            "_view_count": null,
            "_view_module": "@jupyter-widgets/controls",
            "_view_module_version": "1.5.0",
            "_view_name": "HTMLView",
            "description": "",
            "description_tooltip": null,
            "layout": "IPY_MODEL_72236b16c7f543998304542c24f33b72",
            "placeholder": "​",
            "style": "IPY_MODEL_b63fa837c4f540e497bc6a03da170095",
            "value": " 2.80k/2.80k [00:00&lt;00:00, 45.4kB/s]"
          }
        },
        "9b56ad941d264c3389bec57b09a5306b": {
          "model_module": "@jupyter-widgets/base",
          "model_name": "LayoutModel",
          "model_module_version": "1.2.0",
          "state": {
            "_model_module": "@jupyter-widgets/base",
            "_model_module_version": "1.2.0",
            "_model_name": "LayoutModel",
            "_view_count": null,
            "_view_module": "@jupyter-widgets/base",
            "_view_module_version": "1.2.0",
            "_view_name": "LayoutView",
            "align_content": null,
            "align_items": null,
            "align_self": null,
            "border": null,
            "bottom": null,
            "display": null,
            "flex": null,
            "flex_flow": null,
            "grid_area": null,
            "grid_auto_columns": null,
            "grid_auto_flow": null,
            "grid_auto_rows": null,
            "grid_column": null,
            "grid_gap": null,
            "grid_row": null,
            "grid_template_areas": null,
            "grid_template_columns": null,
            "grid_template_rows": null,
            "height": null,
            "justify_content": null,
            "justify_items": null,
            "left": null,
            "margin": null,
            "max_height": null,
            "max_width": null,
            "min_height": null,
            "min_width": null,
            "object_fit": null,
            "object_position": null,
            "order": null,
            "overflow": null,
            "overflow_x": null,
            "overflow_y": null,
            "padding": null,
            "right": null,
            "top": null,
            "visibility": null,
            "width": null
          }
        },
        "3e9cb7cf876a480fab1443ac8e246dc6": {
          "model_module": "@jupyter-widgets/base",
          "model_name": "LayoutModel",
          "model_module_version": "1.2.0",
          "state": {
            "_model_module": "@jupyter-widgets/base",
            "_model_module_version": "1.2.0",
            "_model_name": "LayoutModel",
            "_view_count": null,
            "_view_module": "@jupyter-widgets/base",
            "_view_module_version": "1.2.0",
            "_view_name": "LayoutView",
            "align_content": null,
            "align_items": null,
            "align_self": null,
            "border": null,
            "bottom": null,
            "display": null,
            "flex": null,
            "flex_flow": null,
            "grid_area": null,
            "grid_auto_columns": null,
            "grid_auto_flow": null,
            "grid_auto_rows": null,
            "grid_column": null,
            "grid_gap": null,
            "grid_row": null,
            "grid_template_areas": null,
            "grid_template_columns": null,
            "grid_template_rows": null,
            "height": null,
            "justify_content": null,
            "justify_items": null,
            "left": null,
            "margin": null,
            "max_height": null,
            "max_width": null,
            "min_height": null,
            "min_width": null,
            "object_fit": null,
            "object_position": null,
            "order": null,
            "overflow": null,
            "overflow_x": null,
            "overflow_y": null,
            "padding": null,
            "right": null,
            "top": null,
            "visibility": null,
            "width": null
          }
        },
        "093d106ef12042f4846bbb887c28bde5": {
          "model_module": "@jupyter-widgets/controls",
          "model_name": "DescriptionStyleModel",
          "model_module_version": "1.5.0",
          "state": {
            "_model_module": "@jupyter-widgets/controls",
            "_model_module_version": "1.5.0",
            "_model_name": "DescriptionStyleModel",
            "_view_count": null,
            "_view_module": "@jupyter-widgets/base",
            "_view_module_version": "1.2.0",
            "_view_name": "StyleView",
            "description_width": ""
          }
        },
        "6465517d639543f0b61de9f1172ae3ed": {
          "model_module": "@jupyter-widgets/base",
          "model_name": "LayoutModel",
          "model_module_version": "1.2.0",
          "state": {
            "_model_module": "@jupyter-widgets/base",
            "_model_module_version": "1.2.0",
            "_model_name": "LayoutModel",
            "_view_count": null,
            "_view_module": "@jupyter-widgets/base",
            "_view_module_version": "1.2.0",
            "_view_name": "LayoutView",
            "align_content": null,
            "align_items": null,
            "align_self": null,
            "border": null,
            "bottom": null,
            "display": null,
            "flex": null,
            "flex_flow": null,
            "grid_area": null,
            "grid_auto_columns": null,
            "grid_auto_flow": null,
            "grid_auto_rows": null,
            "grid_column": null,
            "grid_gap": null,
            "grid_row": null,
            "grid_template_areas": null,
            "grid_template_columns": null,
            "grid_template_rows": null,
            "height": null,
            "justify_content": null,
            "justify_items": null,
            "left": null,
            "margin": null,
            "max_height": null,
            "max_width": null,
            "min_height": null,
            "min_width": null,
            "object_fit": null,
            "object_position": null,
            "order": null,
            "overflow": null,
            "overflow_x": null,
            "overflow_y": null,
            "padding": null,
            "right": null,
            "top": null,
            "visibility": null,
            "width": null
          }
        },
        "b90c3b429731475e9217e0008fea0dfb": {
          "model_module": "@jupyter-widgets/controls",
          "model_name": "ProgressStyleModel",
          "model_module_version": "1.5.0",
          "state": {
            "_model_module": "@jupyter-widgets/controls",
            "_model_module_version": "1.5.0",
            "_model_name": "ProgressStyleModel",
            "_view_count": null,
            "_view_module": "@jupyter-widgets/base",
            "_view_module_version": "1.2.0",
            "_view_name": "StyleView",
            "bar_color": null,
            "description_width": ""
          }
        },
        "72236b16c7f543998304542c24f33b72": {
          "model_module": "@jupyter-widgets/base",
          "model_name": "LayoutModel",
          "model_module_version": "1.2.0",
          "state": {
            "_model_module": "@jupyter-widgets/base",
            "_model_module_version": "1.2.0",
            "_model_name": "LayoutModel",
            "_view_count": null,
            "_view_module": "@jupyter-widgets/base",
            "_view_module_version": "1.2.0",
            "_view_name": "LayoutView",
            "align_content": null,
            "align_items": null,
            "align_self": null,
            "border": null,
            "bottom": null,
            "display": null,
            "flex": null,
            "flex_flow": null,
            "grid_area": null,
            "grid_auto_columns": null,
            "grid_auto_flow": null,
            "grid_auto_rows": null,
            "grid_column": null,
            "grid_gap": null,
            "grid_row": null,
            "grid_template_areas": null,
            "grid_template_columns": null,
            "grid_template_rows": null,
            "height": null,
            "justify_content": null,
            "justify_items": null,
            "left": null,
            "margin": null,
            "max_height": null,
            "max_width": null,
            "min_height": null,
            "min_width": null,
            "object_fit": null,
            "object_position": null,
            "order": null,
            "overflow": null,
            "overflow_x": null,
            "overflow_y": null,
            "padding": null,
            "right": null,
            "top": null,
            "visibility": null,
            "width": null
          }
        },
        "b63fa837c4f540e497bc6a03da170095": {
          "model_module": "@jupyter-widgets/controls",
          "model_name": "DescriptionStyleModel",
          "model_module_version": "1.5.0",
          "state": {
            "_model_module": "@jupyter-widgets/controls",
            "_model_module_version": "1.5.0",
            "_model_name": "DescriptionStyleModel",
            "_view_count": null,
            "_view_module": "@jupyter-widgets/base",
            "_view_module_version": "1.2.0",
            "_view_name": "StyleView",
            "description_width": ""
          }
        },
        "e26d785dfc0e438ea01f83e304b88865": {
          "model_module": "@jupyter-widgets/controls",
          "model_name": "HBoxModel",
          "model_module_version": "1.5.0",
          "state": {
            "_dom_classes": [],
            "_model_module": "@jupyter-widgets/controls",
            "_model_module_version": "1.5.0",
            "_model_name": "HBoxModel",
            "_view_count": null,
            "_view_module": "@jupyter-widgets/controls",
            "_view_module_version": "1.5.0",
            "_view_name": "HBoxView",
            "box_style": "",
            "children": [
              "IPY_MODEL_28467e006d3142fca393fd6620551dee",
              "IPY_MODEL_fcc1a97340504a398c7d6b95b13c9824",
              "IPY_MODEL_02823ac5e5244fc29115eb6604a1c77e"
            ],
            "layout": "IPY_MODEL_91ef2081fdab4ab792dc6735b95cdba6"
          }
        },
        "28467e006d3142fca393fd6620551dee": {
          "model_module": "@jupyter-widgets/controls",
          "model_name": "HTMLModel",
          "model_module_version": "1.5.0",
          "state": {
            "_dom_classes": [],
            "_model_module": "@jupyter-widgets/controls",
            "_model_module_version": "1.5.0",
            "_model_name": "HTMLModel",
            "_view_count": null,
            "_view_module": "@jupyter-widgets/controls",
            "_view_module_version": "1.5.0",
            "_view_name": "HTMLView",
            "description": "",
            "description_tooltip": null,
            "layout": "IPY_MODEL_00cdb3d86abb4a1889e29364855997b4",
            "placeholder": "​",
            "style": "IPY_MODEL_9d468ccb7f574ee5a84e68ea78a355fd",
            "value": "Downloading (…)37e8b/vocabulary.txt: 100%"
          }
        },
        "fcc1a97340504a398c7d6b95b13c9824": {
          "model_module": "@jupyter-widgets/controls",
          "model_name": "FloatProgressModel",
          "model_module_version": "1.5.0",
          "state": {
            "_dom_classes": [],
            "_model_module": "@jupyter-widgets/controls",
            "_model_module_version": "1.5.0",
            "_model_name": "FloatProgressModel",
            "_view_count": null,
            "_view_module": "@jupyter-widgets/controls",
            "_view_module_version": "1.5.0",
            "_view_name": "ProgressView",
            "bar_style": "success",
            "description": "",
            "description_tooltip": null,
            "layout": "IPY_MODEL_7ab94d93b0384a9db28446dc640bfaef",
            "max": 459861,
            "min": 0,
            "orientation": "horizontal",
            "style": "IPY_MODEL_eb2a3a86f6344f218306c56de4f02f55",
            "value": 459861
          }
        },
        "02823ac5e5244fc29115eb6604a1c77e": {
          "model_module": "@jupyter-widgets/controls",
          "model_name": "HTMLModel",
          "model_module_version": "1.5.0",
          "state": {
            "_dom_classes": [],
            "_model_module": "@jupyter-widgets/controls",
            "_model_module_version": "1.5.0",
            "_model_name": "HTMLModel",
            "_view_count": null,
            "_view_module": "@jupyter-widgets/controls",
            "_view_module_version": "1.5.0",
            "_view_name": "HTMLView",
            "description": "",
            "description_tooltip": null,
            "layout": "IPY_MODEL_6aa8012d5e294ddabe4c8bd3fbe4eed3",
            "placeholder": "​",
            "style": "IPY_MODEL_2bdde515f15443e1a9b6d284b1f459ca",
            "value": " 460k/460k [00:00&lt;00:00, 3.39MB/s]"
          }
        },
        "91ef2081fdab4ab792dc6735b95cdba6": {
          "model_module": "@jupyter-widgets/base",
          "model_name": "LayoutModel",
          "model_module_version": "1.2.0",
          "state": {
            "_model_module": "@jupyter-widgets/base",
            "_model_module_version": "1.2.0",
            "_model_name": "LayoutModel",
            "_view_count": null,
            "_view_module": "@jupyter-widgets/base",
            "_view_module_version": "1.2.0",
            "_view_name": "LayoutView",
            "align_content": null,
            "align_items": null,
            "align_self": null,
            "border": null,
            "bottom": null,
            "display": null,
            "flex": null,
            "flex_flow": null,
            "grid_area": null,
            "grid_auto_columns": null,
            "grid_auto_flow": null,
            "grid_auto_rows": null,
            "grid_column": null,
            "grid_gap": null,
            "grid_row": null,
            "grid_template_areas": null,
            "grid_template_columns": null,
            "grid_template_rows": null,
            "height": null,
            "justify_content": null,
            "justify_items": null,
            "left": null,
            "margin": null,
            "max_height": null,
            "max_width": null,
            "min_height": null,
            "min_width": null,
            "object_fit": null,
            "object_position": null,
            "order": null,
            "overflow": null,
            "overflow_x": null,
            "overflow_y": null,
            "padding": null,
            "right": null,
            "top": null,
            "visibility": null,
            "width": null
          }
        },
        "00cdb3d86abb4a1889e29364855997b4": {
          "model_module": "@jupyter-widgets/base",
          "model_name": "LayoutModel",
          "model_module_version": "1.2.0",
          "state": {
            "_model_module": "@jupyter-widgets/base",
            "_model_module_version": "1.2.0",
            "_model_name": "LayoutModel",
            "_view_count": null,
            "_view_module": "@jupyter-widgets/base",
            "_view_module_version": "1.2.0",
            "_view_name": "LayoutView",
            "align_content": null,
            "align_items": null,
            "align_self": null,
            "border": null,
            "bottom": null,
            "display": null,
            "flex": null,
            "flex_flow": null,
            "grid_area": null,
            "grid_auto_columns": null,
            "grid_auto_flow": null,
            "grid_auto_rows": null,
            "grid_column": null,
            "grid_gap": null,
            "grid_row": null,
            "grid_template_areas": null,
            "grid_template_columns": null,
            "grid_template_rows": null,
            "height": null,
            "justify_content": null,
            "justify_items": null,
            "left": null,
            "margin": null,
            "max_height": null,
            "max_width": null,
            "min_height": null,
            "min_width": null,
            "object_fit": null,
            "object_position": null,
            "order": null,
            "overflow": null,
            "overflow_x": null,
            "overflow_y": null,
            "padding": null,
            "right": null,
            "top": null,
            "visibility": null,
            "width": null
          }
        },
        "9d468ccb7f574ee5a84e68ea78a355fd": {
          "model_module": "@jupyter-widgets/controls",
          "model_name": "DescriptionStyleModel",
          "model_module_version": "1.5.0",
          "state": {
            "_model_module": "@jupyter-widgets/controls",
            "_model_module_version": "1.5.0",
            "_model_name": "DescriptionStyleModel",
            "_view_count": null,
            "_view_module": "@jupyter-widgets/base",
            "_view_module_version": "1.2.0",
            "_view_name": "StyleView",
            "description_width": ""
          }
        },
        "7ab94d93b0384a9db28446dc640bfaef": {
          "model_module": "@jupyter-widgets/base",
          "model_name": "LayoutModel",
          "model_module_version": "1.2.0",
          "state": {
            "_model_module": "@jupyter-widgets/base",
            "_model_module_version": "1.2.0",
            "_model_name": "LayoutModel",
            "_view_count": null,
            "_view_module": "@jupyter-widgets/base",
            "_view_module_version": "1.2.0",
            "_view_name": "LayoutView",
            "align_content": null,
            "align_items": null,
            "align_self": null,
            "border": null,
            "bottom": null,
            "display": null,
            "flex": null,
            "flex_flow": null,
            "grid_area": null,
            "grid_auto_columns": null,
            "grid_auto_flow": null,
            "grid_auto_rows": null,
            "grid_column": null,
            "grid_gap": null,
            "grid_row": null,
            "grid_template_areas": null,
            "grid_template_columns": null,
            "grid_template_rows": null,
            "height": null,
            "justify_content": null,
            "justify_items": null,
            "left": null,
            "margin": null,
            "max_height": null,
            "max_width": null,
            "min_height": null,
            "min_width": null,
            "object_fit": null,
            "object_position": null,
            "order": null,
            "overflow": null,
            "overflow_x": null,
            "overflow_y": null,
            "padding": null,
            "right": null,
            "top": null,
            "visibility": null,
            "width": null
          }
        },
        "eb2a3a86f6344f218306c56de4f02f55": {
          "model_module": "@jupyter-widgets/controls",
          "model_name": "ProgressStyleModel",
          "model_module_version": "1.5.0",
          "state": {
            "_model_module": "@jupyter-widgets/controls",
            "_model_module_version": "1.5.0",
            "_model_name": "ProgressStyleModel",
            "_view_count": null,
            "_view_module": "@jupyter-widgets/base",
            "_view_module_version": "1.2.0",
            "_view_name": "StyleView",
            "bar_color": null,
            "description_width": ""
          }
        },
        "6aa8012d5e294ddabe4c8bd3fbe4eed3": {
          "model_module": "@jupyter-widgets/base",
          "model_name": "LayoutModel",
          "model_module_version": "1.2.0",
          "state": {
            "_model_module": "@jupyter-widgets/base",
            "_model_module_version": "1.2.0",
            "_model_name": "LayoutModel",
            "_view_count": null,
            "_view_module": "@jupyter-widgets/base",
            "_view_module_version": "1.2.0",
            "_view_name": "LayoutView",
            "align_content": null,
            "align_items": null,
            "align_self": null,
            "border": null,
            "bottom": null,
            "display": null,
            "flex": null,
            "flex_flow": null,
            "grid_area": null,
            "grid_auto_columns": null,
            "grid_auto_flow": null,
            "grid_auto_rows": null,
            "grid_column": null,
            "grid_gap": null,
            "grid_row": null,
            "grid_template_areas": null,
            "grid_template_columns": null,
            "grid_template_rows": null,
            "height": null,
            "justify_content": null,
            "justify_items": null,
            "left": null,
            "margin": null,
            "max_height": null,
            "max_width": null,
            "min_height": null,
            "min_width": null,
            "object_fit": null,
            "object_position": null,
            "order": null,
            "overflow": null,
            "overflow_x": null,
            "overflow_y": null,
            "padding": null,
            "right": null,
            "top": null,
            "visibility": null,
            "width": null
          }
        },
        "2bdde515f15443e1a9b6d284b1f459ca": {
          "model_module": "@jupyter-widgets/controls",
          "model_name": "DescriptionStyleModel",
          "model_module_version": "1.5.0",
          "state": {
            "_model_module": "@jupyter-widgets/controls",
            "_model_module_version": "1.5.0",
            "_model_name": "DescriptionStyleModel",
            "_view_count": null,
            "_view_module": "@jupyter-widgets/base",
            "_view_module_version": "1.2.0",
            "_view_name": "StyleView",
            "description_width": ""
          }
        },
        "875d4df74520491da475685de535a2e1": {
          "model_module": "@jupyter-widgets/controls",
          "model_name": "HBoxModel",
          "model_module_version": "1.5.0",
          "state": {
            "_dom_classes": [],
            "_model_module": "@jupyter-widgets/controls",
            "_model_module_version": "1.5.0",
            "_model_name": "HBoxModel",
            "_view_count": null,
            "_view_module": "@jupyter-widgets/controls",
            "_view_module_version": "1.5.0",
            "_view_name": "HBoxView",
            "box_style": "",
            "children": [
              "IPY_MODEL_677bb08edab544cea3880bb13d2a8f6e",
              "IPY_MODEL_3f1d85f372d641f39d0d95eaeb5667cb",
              "IPY_MODEL_5dfa5de6c6a8492c88f49396f2580dea"
            ],
            "layout": "IPY_MODEL_cb186aff790d48838e65ea57da7dd7e7"
          }
        },
        "677bb08edab544cea3880bb13d2a8f6e": {
          "model_module": "@jupyter-widgets/controls",
          "model_name": "HTMLModel",
          "model_module_version": "1.5.0",
          "state": {
            "_dom_classes": [],
            "_model_module": "@jupyter-widgets/controls",
            "_model_module_version": "1.5.0",
            "_model_name": "HTMLModel",
            "_view_count": null,
            "_view_module": "@jupyter-widgets/controls",
            "_view_module_version": "1.5.0",
            "_view_name": "HTMLView",
            "description": "",
            "description_tooltip": null,
            "layout": "IPY_MODEL_b939a4fb5dbd47daa50ea6c0e9c7918f",
            "placeholder": "​",
            "style": "IPY_MODEL_78b7ad367c3d4b85b0681fbcd544402b",
            "value": "Downloading model.bin: 100%"
          }
        },
        "3f1d85f372d641f39d0d95eaeb5667cb": {
          "model_module": "@jupyter-widgets/controls",
          "model_name": "FloatProgressModel",
          "model_module_version": "1.5.0",
          "state": {
            "_dom_classes": [],
            "_model_module": "@jupyter-widgets/controls",
            "_model_module_version": "1.5.0",
            "_model_name": "FloatProgressModel",
            "_view_count": null,
            "_view_module": "@jupyter-widgets/controls",
            "_view_module_version": "1.5.0",
            "_view_name": "ProgressView",
            "bar_style": "success",
            "description": "",
            "description_tooltip": null,
            "layout": "IPY_MODEL_c07c76728ff5473a8f0ce355f5743e91",
            "max": 3086912962,
            "min": 0,
            "orientation": "horizontal",
            "style": "IPY_MODEL_5e269b31dfb04a05ac25fb95b1fd326d",
            "value": 3086912962
          }
        },
        "5dfa5de6c6a8492c88f49396f2580dea": {
          "model_module": "@jupyter-widgets/controls",
          "model_name": "HTMLModel",
          "model_module_version": "1.5.0",
          "state": {
            "_dom_classes": [],
            "_model_module": "@jupyter-widgets/controls",
            "_model_module_version": "1.5.0",
            "_model_name": "HTMLModel",
            "_view_count": null,
            "_view_module": "@jupyter-widgets/controls",
            "_view_module_version": "1.5.0",
            "_view_name": "HTMLView",
            "description": "",
            "description_tooltip": null,
            "layout": "IPY_MODEL_29a0accc7dbe4412be266435bda69a6f",
            "placeholder": "​",
            "style": "IPY_MODEL_eeff0fb166704f1fbb92f90cb46d2217",
            "value": " 3.09G/3.09G [00:30&lt;00:00, 78.1MB/s]"
          }
        },
        "cb186aff790d48838e65ea57da7dd7e7": {
          "model_module": "@jupyter-widgets/base",
          "model_name": "LayoutModel",
          "model_module_version": "1.2.0",
          "state": {
            "_model_module": "@jupyter-widgets/base",
            "_model_module_version": "1.2.0",
            "_model_name": "LayoutModel",
            "_view_count": null,
            "_view_module": "@jupyter-widgets/base",
            "_view_module_version": "1.2.0",
            "_view_name": "LayoutView",
            "align_content": null,
            "align_items": null,
            "align_self": null,
            "border": null,
            "bottom": null,
            "display": null,
            "flex": null,
            "flex_flow": null,
            "grid_area": null,
            "grid_auto_columns": null,
            "grid_auto_flow": null,
            "grid_auto_rows": null,
            "grid_column": null,
            "grid_gap": null,
            "grid_row": null,
            "grid_template_areas": null,
            "grid_template_columns": null,
            "grid_template_rows": null,
            "height": null,
            "justify_content": null,
            "justify_items": null,
            "left": null,
            "margin": null,
            "max_height": null,
            "max_width": null,
            "min_height": null,
            "min_width": null,
            "object_fit": null,
            "object_position": null,
            "order": null,
            "overflow": null,
            "overflow_x": null,
            "overflow_y": null,
            "padding": null,
            "right": null,
            "top": null,
            "visibility": null,
            "width": null
          }
        },
        "b939a4fb5dbd47daa50ea6c0e9c7918f": {
          "model_module": "@jupyter-widgets/base",
          "model_name": "LayoutModel",
          "model_module_version": "1.2.0",
          "state": {
            "_model_module": "@jupyter-widgets/base",
            "_model_module_version": "1.2.0",
            "_model_name": "LayoutModel",
            "_view_count": null,
            "_view_module": "@jupyter-widgets/base",
            "_view_module_version": "1.2.0",
            "_view_name": "LayoutView",
            "align_content": null,
            "align_items": null,
            "align_self": null,
            "border": null,
            "bottom": null,
            "display": null,
            "flex": null,
            "flex_flow": null,
            "grid_area": null,
            "grid_auto_columns": null,
            "grid_auto_flow": null,
            "grid_auto_rows": null,
            "grid_column": null,
            "grid_gap": null,
            "grid_row": null,
            "grid_template_areas": null,
            "grid_template_columns": null,
            "grid_template_rows": null,
            "height": null,
            "justify_content": null,
            "justify_items": null,
            "left": null,
            "margin": null,
            "max_height": null,
            "max_width": null,
            "min_height": null,
            "min_width": null,
            "object_fit": null,
            "object_position": null,
            "order": null,
            "overflow": null,
            "overflow_x": null,
            "overflow_y": null,
            "padding": null,
            "right": null,
            "top": null,
            "visibility": null,
            "width": null
          }
        },
        "78b7ad367c3d4b85b0681fbcd544402b": {
          "model_module": "@jupyter-widgets/controls",
          "model_name": "DescriptionStyleModel",
          "model_module_version": "1.5.0",
          "state": {
            "_model_module": "@jupyter-widgets/controls",
            "_model_module_version": "1.5.0",
            "_model_name": "DescriptionStyleModel",
            "_view_count": null,
            "_view_module": "@jupyter-widgets/base",
            "_view_module_version": "1.2.0",
            "_view_name": "StyleView",
            "description_width": ""
          }
        },
        "c07c76728ff5473a8f0ce355f5743e91": {
          "model_module": "@jupyter-widgets/base",
          "model_name": "LayoutModel",
          "model_module_version": "1.2.0",
          "state": {
            "_model_module": "@jupyter-widgets/base",
            "_model_module_version": "1.2.0",
            "_model_name": "LayoutModel",
            "_view_count": null,
            "_view_module": "@jupyter-widgets/base",
            "_view_module_version": "1.2.0",
            "_view_name": "LayoutView",
            "align_content": null,
            "align_items": null,
            "align_self": null,
            "border": null,
            "bottom": null,
            "display": null,
            "flex": null,
            "flex_flow": null,
            "grid_area": null,
            "grid_auto_columns": null,
            "grid_auto_flow": null,
            "grid_auto_rows": null,
            "grid_column": null,
            "grid_gap": null,
            "grid_row": null,
            "grid_template_areas": null,
            "grid_template_columns": null,
            "grid_template_rows": null,
            "height": null,
            "justify_content": null,
            "justify_items": null,
            "left": null,
            "margin": null,
            "max_height": null,
            "max_width": null,
            "min_height": null,
            "min_width": null,
            "object_fit": null,
            "object_position": null,
            "order": null,
            "overflow": null,
            "overflow_x": null,
            "overflow_y": null,
            "padding": null,
            "right": null,
            "top": null,
            "visibility": null,
            "width": null
          }
        },
        "5e269b31dfb04a05ac25fb95b1fd326d": {
          "model_module": "@jupyter-widgets/controls",
          "model_name": "ProgressStyleModel",
          "model_module_version": "1.5.0",
          "state": {
            "_model_module": "@jupyter-widgets/controls",
            "_model_module_version": "1.5.0",
            "_model_name": "ProgressStyleModel",
            "_view_count": null,
            "_view_module": "@jupyter-widgets/base",
            "_view_module_version": "1.2.0",
            "_view_name": "StyleView",
            "bar_color": null,
            "description_width": ""
          }
        },
        "29a0accc7dbe4412be266435bda69a6f": {
          "model_module": "@jupyter-widgets/base",
          "model_name": "LayoutModel",
          "model_module_version": "1.2.0",
          "state": {
            "_model_module": "@jupyter-widgets/base",
            "_model_module_version": "1.2.0",
            "_model_name": "LayoutModel",
            "_view_count": null,
            "_view_module": "@jupyter-widgets/base",
            "_view_module_version": "1.2.0",
            "_view_name": "LayoutView",
            "align_content": null,
            "align_items": null,
            "align_self": null,
            "border": null,
            "bottom": null,
            "display": null,
            "flex": null,
            "flex_flow": null,
            "grid_area": null,
            "grid_auto_columns": null,
            "grid_auto_flow": null,
            "grid_auto_rows": null,
            "grid_column": null,
            "grid_gap": null,
            "grid_row": null,
            "grid_template_areas": null,
            "grid_template_columns": null,
            "grid_template_rows": null,
            "height": null,
            "justify_content": null,
            "justify_items": null,
            "left": null,
            "margin": null,
            "max_height": null,
            "max_width": null,
            "min_height": null,
            "min_width": null,
            "object_fit": null,
            "object_position": null,
            "order": null,
            "overflow": null,
            "overflow_x": null,
            "overflow_y": null,
            "padding": null,
            "right": null,
            "top": null,
            "visibility": null,
            "width": null
          }
        },
        "eeff0fb166704f1fbb92f90cb46d2217": {
          "model_module": "@jupyter-widgets/controls",
          "model_name": "DescriptionStyleModel",
          "model_module_version": "1.5.0",
          "state": {
            "_model_module": "@jupyter-widgets/controls",
            "_model_module_version": "1.5.0",
            "_model_name": "DescriptionStyleModel",
            "_view_count": null,
            "_view_module": "@jupyter-widgets/base",
            "_view_module_version": "1.2.0",
            "_view_name": "StyleView",
            "description_width": ""
          }
        }
      }
    }
  },
  "cells": [
    {
      "cell_type": "markdown",
      "source": [
        "## Installs"
      ],
      "metadata": {
        "id": "3FdO9x9895FM"
      }
    },
    {
      "cell_type": "code",
      "execution_count": null,
      "metadata": {
        "id": "B9KHhGkQq4nA"
      },
      "outputs": [],
      "source": [
        "!pip install pydub\n",
        "!pip install faster-whisper\n",
        "!pip install translate\n",
        "!pip install gTTS\n",
        "!pip install TTS\n",
        "!pip install -U TTS\n",
        "!pip install transformers==4.33\n",
        "!pip install --upgrade deepspeed\n",
        "!pip install moviepy\n",
        "!pip install -U deep-translator\n",
        "!apt install ffmpeg\n",
        "!pip install spleeter\n",
        "!pip install pypinyin"
      ]
    },
    {
      "cell_type": "code",
      "source": [
        "from moviepy.editor import VideoFileClip\n",
        "from faster_whisper import WhisperModel\n",
        "from deep_translator import GoogleTranslator\n",
        "from IPython.display import Audio\n",
        "\n",
        "import os\n",
        "import torch\n",
        "import torchaudio\n",
        "from TTS.tts.configs.xtts_config import XttsConfig\n",
        "from TTS.tts.models.xtts import Xtts\n",
        "from pydub import AudioSegment\n",
        "from pydub.silence import split_on_silence\n",
        "import pandas as pd\n",
        "from google.colab import drive\n",
        "drive.mount('/content/drive')"
      ],
      "metadata": {
        "id": "zTIUpW8rrKrT",
        "colab": {
          "base_uri": "https://localhost:8080/"
        },
        "outputId": "567f2906-65b1-458e-ef8e-cdd996965607"
      },
      "execution_count": null,
      "outputs": [
        {
          "output_type": "stream",
          "name": "stdout",
          "text": [
            "Mounted at /content/drive\n"
          ]
        }
      ]
    },
    {
      "cell_type": "markdown",
      "source": [
        "## Models initial"
      ],
      "metadata": {
        "id": "63ApjtCt2hTM"
      }
    },
    {
      "cell_type": "code",
      "source": [
        "target_language = \"English\" #@param [\"English\", \"Spanish\", \"French\", \"German\", \"Italian\", \"Portuguese\", \"Polish\", \"Turkish\", \"Russian\", \"Dutch\", \"Czech\", \"Arabic\", \"Chinese (Simplified)\",'Japanese','Hungarian','Korean']"
      ],
      "metadata": {
        "id": "dZZep4_81aD7"
      },
      "execution_count": null,
      "outputs": []
    },
    {
      "cell_type": "code",
      "source": [
        "model_size = \"large-v2\"\n",
        "model_whisper = WhisperModel(model_size, device=\"cuda\", compute_type=\"float16\")"
      ],
      "metadata": {
        "id": "mpvdPM9VGRyd",
        "colab": {
          "base_uri": "https://localhost:8080/",
          "height": 145,
          "referenced_widgets": [
            "fa8785f3e52c4c07b8125ae20943ab81",
            "2d18a92798544c378fbc6ce17050d353",
            "40e4fef8dbdf4e14ba2fbb5f05f3f0fc",
            "42e4393e91444f2f8bbf1b20668ce134",
            "fce05481a61045159def814054426c5e",
            "8aff800978214e798b67ee4c64255f1a",
            "ae154825513542228f594bc8274b3f38",
            "5a61de3d723c40e7b226e86150f8abcb",
            "3711870463e64f8a93abd947724403f6",
            "5ea84380a05f4479b5cc88c9e48f4323",
            "906185600d7243479b0253f26b5ad228",
            "99bc58cb73ed4a9f980850408d3bc972",
            "9085a3c165cd48d881c5b076646c8266",
            "74e26124e2d444c39d22a4451fb541af",
            "21847e1d732d4878a7ce20ef3f0fc581",
            "9b56ad941d264c3389bec57b09a5306b",
            "3e9cb7cf876a480fab1443ac8e246dc6",
            "093d106ef12042f4846bbb887c28bde5",
            "6465517d639543f0b61de9f1172ae3ed",
            "b90c3b429731475e9217e0008fea0dfb",
            "72236b16c7f543998304542c24f33b72",
            "b63fa837c4f540e497bc6a03da170095",
            "e26d785dfc0e438ea01f83e304b88865",
            "28467e006d3142fca393fd6620551dee",
            "fcc1a97340504a398c7d6b95b13c9824",
            "02823ac5e5244fc29115eb6604a1c77e",
            "91ef2081fdab4ab792dc6735b95cdba6",
            "00cdb3d86abb4a1889e29364855997b4",
            "9d468ccb7f574ee5a84e68ea78a355fd",
            "7ab94d93b0384a9db28446dc640bfaef",
            "eb2a3a86f6344f218306c56de4f02f55",
            "6aa8012d5e294ddabe4c8bd3fbe4eed3",
            "2bdde515f15443e1a9b6d284b1f459ca",
            "875d4df74520491da475685de535a2e1",
            "677bb08edab544cea3880bb13d2a8f6e",
            "3f1d85f372d641f39d0d95eaeb5667cb",
            "5dfa5de6c6a8492c88f49396f2580dea",
            "cb186aff790d48838e65ea57da7dd7e7",
            "b939a4fb5dbd47daa50ea6c0e9c7918f",
            "78b7ad367c3d4b85b0681fbcd544402b",
            "c07c76728ff5473a8f0ce355f5743e91",
            "5e269b31dfb04a05ac25fb95b1fd326d",
            "29a0accc7dbe4412be266435bda69a6f",
            "eeff0fb166704f1fbb92f90cb46d2217"
          ]
        },
        "outputId": "eaca3adc-cc09-461b-d853-9e8058204bef"
      },
      "execution_count": null,
      "outputs": [
        {
          "output_type": "display_data",
          "data": {
            "text/plain": [
              "Downloading (…)37e8b/tokenizer.json:   0%|          | 0.00/2.20M [00:00<?, ?B/s]"
            ],
            "application/vnd.jupyter.widget-view+json": {
              "version_major": 2,
              "version_minor": 0,
              "model_id": "fa8785f3e52c4c07b8125ae20943ab81"
            }
          },
          "metadata": {}
        },
        {
          "output_type": "display_data",
          "data": {
            "text/plain": [
              "Downloading (…)08837e8b/config.json:   0%|          | 0.00/2.80k [00:00<?, ?B/s]"
            ],
            "application/vnd.jupyter.widget-view+json": {
              "version_major": 2,
              "version_minor": 0,
              "model_id": "99bc58cb73ed4a9f980850408d3bc972"
            }
          },
          "metadata": {}
        },
        {
          "output_type": "display_data",
          "data": {
            "text/plain": [
              "Downloading (…)37e8b/vocabulary.txt:   0%|          | 0.00/460k [00:00<?, ?B/s]"
            ],
            "application/vnd.jupyter.widget-view+json": {
              "version_major": 2,
              "version_minor": 0,
              "model_id": "e26d785dfc0e438ea01f83e304b88865"
            }
          },
          "metadata": {}
        },
        {
          "output_type": "display_data",
          "data": {
            "text/plain": [
              "Downloading model.bin:   0%|          | 0.00/3.09G [00:00<?, ?B/s]"
            ],
            "application/vnd.jupyter.widget-view+json": {
              "version_major": 2,
              "version_minor": 0,
              "model_id": "875d4df74520491da475685de535a2e1"
            }
          },
          "metadata": {}
        }
      ]
    },
    {
      "cell_type": "code",
      "source": [
        "print(\"Loading model...\")\n",
        "config = XttsConfig()\n",
        "config.load_json(\"/content/drive/MyDrive/data_rut/config.json\")\n",
        "model = Xtts.init_from_config(config)\n",
        "model.load_checkpoint(config, checkpoint_dir=\"/content/drive/MyDrive/data_rut\", use_deepspeed=True)\n",
        "\n",
        "model.cuda()"
      ],
      "metadata": {
        "id": "tjzjhdEn2SH4"
      },
      "execution_count": null,
      "outputs": []
    },
    {
      "cell_type": "markdown",
      "source": [
        "## Audio preparation"
      ],
      "metadata": {
        "id": "kMtMLobi1XrO"
      }
    },
    {
      "cell_type": "code",
      "source": [
        "# taking audio from video\n",
        "\n",
        "def extract_audio(video_file, output_audio_file):\n",
        "    video_clip = VideoFileClip(video_file)\n",
        "    audio_clip = video_clip.audio\n",
        "    audio_clip.write_audiofile(output_audio_file)\n",
        "    audio_clip.close()\n",
        "\n",
        "audio_file = 'audio.mp3'\n",
        "video_file = '/content/drive/MyDrive/vids/13.mp4'\n",
        "extract_audio(video_file, audio_file)"
      ],
      "metadata": {
        "id": "ld4wspilIsEH",
        "colab": {
          "base_uri": "https://localhost:8080/"
        },
        "outputId": "37779177-e7f1-4f88-c64c-ab73f1d3e344"
      },
      "execution_count": null,
      "outputs": [
        {
          "output_type": "stream",
          "name": "stdout",
          "text": [
            "MoviePy - Writing audio in audio.mp3\n"
          ]
        },
        {
          "output_type": "stream",
          "name": "stderr",
          "text": [
            "                                                                   "
          ]
        },
        {
          "output_type": "stream",
          "name": "stdout",
          "text": [
            "MoviePy - Done.\n"
          ]
        },
        {
          "output_type": "stream",
          "name": "stderr",
          "text": [
            "\r"
          ]
        }
      ]
    },
    {
      "cell_type": "code",
      "source": [
        "segments, info = model_whisper.transcribe(\"audio.mp3\", beam_size=5)\n",
        "print(\"Detected language '%s' with probability %f\" % (info.language, info.language_probability))\n",
        "\n",
        "start, end, start_train, end_train, text = [], [], [], [], []\n",
        "for segment in segments:\n",
        "    end_train.append(segment.end * 1000)\n",
        "    start_train.append(segment.start * 1000)\n",
        "\n",
        "    start.append(segment.start * 1000)\n",
        "    end.append(segment.end* 1000)\n",
        "    text.append(segment.text)\n",
        "d = {'start': start, 'end': end, 'start_train': start_train, 'end_train':end_train, 'text': text}\n",
        "df = pd.DataFrame(data=d)\n",
        "\n",
        "# Фильтрация строк, где все буквы написаны заглавными\n",
        "df = df[~df['text'].str.isupper()]"
      ],
      "metadata": {
        "id": "T-RiCjhZGXHb",
        "colab": {
          "base_uri": "https://localhost:8080/"
        },
        "outputId": "4dbba80b-6c07-459c-f4d8-6e46467e672e"
      },
      "execution_count": null,
      "outputs": [
        {
          "output_type": "stream",
          "name": "stdout",
          "text": [
            "Detected language 'ru' with probability 0.999023\n"
          ]
        }
      ]
    },
    {
      "cell_type": "code",
      "source": [
        "# Mapping between full names and ISO 639-1 codes\n",
        "language_mapping = {\n",
        "    'English': 'en',\n",
        "    'Spanish': 'es',\n",
        "    'French': 'fr',\n",
        "    'German': 'de',\n",
        "    'Italian': 'it',\n",
        "    'Portuguese': 'pt',\n",
        "    'Polish': 'pl',\n",
        "    'Turkish': 'tr',\n",
        "    'Russian': 'ru',\n",
        "    'Dutch': 'nl',\n",
        "    'Czech': 'cs',\n",
        "    'Arabic': 'ar',\n",
        "    'Chinese (Simplified)': 'zh',\n",
        "    'Japanese': 'ja',\n",
        "    'Hungarian': 'hu',\n",
        "    'Korean': 'ko'\n",
        "}\n",
        "\n",
        "target_language_code = language_mapping[target_language]\n",
        "if target_language_code == 'zh':\n",
        "  fl = 'zh-CN'\n",
        "\n",
        "  translator = GoogleTranslator(source='auto', target=fl)\n",
        "else:\n",
        "  translator = GoogleTranslator(source='auto', target=target_language_code)\n",
        "\n",
        "data = df\n",
        "dt = data['text']\n",
        "translated_series = dt.apply(translator.translate)\n",
        "df['translated'] = translated_series\n",
        "df"
      ],
      "metadata": {
        "id": "uvdpJLA9tnrf",
        "colab": {
          "base_uri": "https://localhost:8080/",
          "height": 457
        },
        "outputId": "0dc43d03-1510-4634-9eb7-3bb34327f9ac"
      },
      "execution_count": null,
      "outputs": [
        {
          "output_type": "execute_result",
          "data": {
            "text/plain": [
              "      start      end  start_train  end_train  \\\n",
              "0       0.0   8000.0          0.0     8000.0   \n",
              "1    8000.0  10500.0       8000.0    10500.0   \n",
              "2   10500.0  13000.0      10500.0    13000.0   \n",
              "3   13000.0  15500.0      13000.0    15500.0   \n",
              "4   15500.0  17500.0      15500.0    17500.0   \n",
              "5   17500.0  20000.0      17500.0    20000.0   \n",
              "6   20000.0  22500.0      20000.0    22500.0   \n",
              "7   22500.0  25000.0      22500.0    25000.0   \n",
              "8   25000.0  27500.0      25000.0    27500.0   \n",
              "9   27500.0  29500.0      27500.0    29500.0   \n",
              "10  29500.0  32000.0      29500.0    32000.0   \n",
              "11  32000.0  34500.0      32000.0    34500.0   \n",
              "12  34500.0  37000.0      34500.0    37000.0   \n",
              "\n",
              "                                      text  \\\n",
              "0           Ещё один день, у команд позади   \n",
              "1     Вы давай поскорей, результат не тяни   \n",
              "2          Эксперты на связи, трекеры тоже   \n",
              "3             Наш хокотон на гонку похожий   \n",
              "4    Вы не спали уже сутки, мозг как мотор   \n",
              "5    Гудит поток мыслей, что выше был скор   \n",
              "6          Движение вперёд, главная задача   \n",
              "7     Здесь важны скиллы и чуть-чуть удачи   \n",
              "8        Выиграешь ли ты или победит сосед   \n",
              "9      Это не важно, здесь проигравших нет   \n",
              "10         На пользу тебе все движения эти   \n",
              "11       А пока проходите, чекпоинт третий   \n",
              "12        Чекпоинт третий, чекпоинт третий   \n",
              "\n",
              "                                           translated  \n",
              "0                        Another day behind the teams  \n",
              "1             Come on quickly, don’t delay the result  \n",
              "2                  Experts are in touch, trackers too  \n",
              "3                          Our hocoton is like a race  \n",
              "4   You haven't slept for 24 hours, your brain is ...  \n",
              "5   The stream of thoughts is buzzing that the hig...  \n",
              "6                     Moving forward is the main task  \n",
              "7         Skills and a little luck are important here  \n",
              "8             Will you win or will your neighbor win?  \n",
              "9         It doesn't matter, there are no losers here  \n",
              "10           All these movements are for your benefit  \n",
              "11       In the meantime, go through checkpoint three  \n",
              "12                 Checkpoint three, checkpoint three  "
            ],
            "text/html": [
              "\n",
              "  <div id=\"df-338e7a54-a176-4fd8-991b-93bfc7423a9c\" class=\"colab-df-container\">\n",
              "    <div>\n",
              "<style scoped>\n",
              "    .dataframe tbody tr th:only-of-type {\n",
              "        vertical-align: middle;\n",
              "    }\n",
              "\n",
              "    .dataframe tbody tr th {\n",
              "        vertical-align: top;\n",
              "    }\n",
              "\n",
              "    .dataframe thead th {\n",
              "        text-align: right;\n",
              "    }\n",
              "</style>\n",
              "<table border=\"1\" class=\"dataframe\">\n",
              "  <thead>\n",
              "    <tr style=\"text-align: right;\">\n",
              "      <th></th>\n",
              "      <th>start</th>\n",
              "      <th>end</th>\n",
              "      <th>start_train</th>\n",
              "      <th>end_train</th>\n",
              "      <th>text</th>\n",
              "      <th>translated</th>\n",
              "    </tr>\n",
              "  </thead>\n",
              "  <tbody>\n",
              "    <tr>\n",
              "      <th>0</th>\n",
              "      <td>0.0</td>\n",
              "      <td>8000.0</td>\n",
              "      <td>0.0</td>\n",
              "      <td>8000.0</td>\n",
              "      <td>Ещё один день, у команд позади</td>\n",
              "      <td>Another day behind the teams</td>\n",
              "    </tr>\n",
              "    <tr>\n",
              "      <th>1</th>\n",
              "      <td>8000.0</td>\n",
              "      <td>10500.0</td>\n",
              "      <td>8000.0</td>\n",
              "      <td>10500.0</td>\n",
              "      <td>Вы давай поскорей, результат не тяни</td>\n",
              "      <td>Come on quickly, don’t delay the result</td>\n",
              "    </tr>\n",
              "    <tr>\n",
              "      <th>2</th>\n",
              "      <td>10500.0</td>\n",
              "      <td>13000.0</td>\n",
              "      <td>10500.0</td>\n",
              "      <td>13000.0</td>\n",
              "      <td>Эксперты на связи, трекеры тоже</td>\n",
              "      <td>Experts are in touch, trackers too</td>\n",
              "    </tr>\n",
              "    <tr>\n",
              "      <th>3</th>\n",
              "      <td>13000.0</td>\n",
              "      <td>15500.0</td>\n",
              "      <td>13000.0</td>\n",
              "      <td>15500.0</td>\n",
              "      <td>Наш хокотон на гонку похожий</td>\n",
              "      <td>Our hocoton is like a race</td>\n",
              "    </tr>\n",
              "    <tr>\n",
              "      <th>4</th>\n",
              "      <td>15500.0</td>\n",
              "      <td>17500.0</td>\n",
              "      <td>15500.0</td>\n",
              "      <td>17500.0</td>\n",
              "      <td>Вы не спали уже сутки, мозг как мотор</td>\n",
              "      <td>You haven't slept for 24 hours, your brain is ...</td>\n",
              "    </tr>\n",
              "    <tr>\n",
              "      <th>5</th>\n",
              "      <td>17500.0</td>\n",
              "      <td>20000.0</td>\n",
              "      <td>17500.0</td>\n",
              "      <td>20000.0</td>\n",
              "      <td>Гудит поток мыслей, что выше был скор</td>\n",
              "      <td>The stream of thoughts is buzzing that the hig...</td>\n",
              "    </tr>\n",
              "    <tr>\n",
              "      <th>6</th>\n",
              "      <td>20000.0</td>\n",
              "      <td>22500.0</td>\n",
              "      <td>20000.0</td>\n",
              "      <td>22500.0</td>\n",
              "      <td>Движение вперёд, главная задача</td>\n",
              "      <td>Moving forward is the main task</td>\n",
              "    </tr>\n",
              "    <tr>\n",
              "      <th>7</th>\n",
              "      <td>22500.0</td>\n",
              "      <td>25000.0</td>\n",
              "      <td>22500.0</td>\n",
              "      <td>25000.0</td>\n",
              "      <td>Здесь важны скиллы и чуть-чуть удачи</td>\n",
              "      <td>Skills and a little luck are important here</td>\n",
              "    </tr>\n",
              "    <tr>\n",
              "      <th>8</th>\n",
              "      <td>25000.0</td>\n",
              "      <td>27500.0</td>\n",
              "      <td>25000.0</td>\n",
              "      <td>27500.0</td>\n",
              "      <td>Выиграешь ли ты или победит сосед</td>\n",
              "      <td>Will you win or will your neighbor win?</td>\n",
              "    </tr>\n",
              "    <tr>\n",
              "      <th>9</th>\n",
              "      <td>27500.0</td>\n",
              "      <td>29500.0</td>\n",
              "      <td>27500.0</td>\n",
              "      <td>29500.0</td>\n",
              "      <td>Это не важно, здесь проигравших нет</td>\n",
              "      <td>It doesn't matter, there are no losers here</td>\n",
              "    </tr>\n",
              "    <tr>\n",
              "      <th>10</th>\n",
              "      <td>29500.0</td>\n",
              "      <td>32000.0</td>\n",
              "      <td>29500.0</td>\n",
              "      <td>32000.0</td>\n",
              "      <td>На пользу тебе все движения эти</td>\n",
              "      <td>All these movements are for your benefit</td>\n",
              "    </tr>\n",
              "    <tr>\n",
              "      <th>11</th>\n",
              "      <td>32000.0</td>\n",
              "      <td>34500.0</td>\n",
              "      <td>32000.0</td>\n",
              "      <td>34500.0</td>\n",
              "      <td>А пока проходите, чекпоинт третий</td>\n",
              "      <td>In the meantime, go through checkpoint three</td>\n",
              "    </tr>\n",
              "    <tr>\n",
              "      <th>12</th>\n",
              "      <td>34500.0</td>\n",
              "      <td>37000.0</td>\n",
              "      <td>34500.0</td>\n",
              "      <td>37000.0</td>\n",
              "      <td>Чекпоинт третий, чекпоинт третий</td>\n",
              "      <td>Checkpoint three, checkpoint three</td>\n",
              "    </tr>\n",
              "  </tbody>\n",
              "</table>\n",
              "</div>\n",
              "    <div class=\"colab-df-buttons\">\n",
              "\n",
              "  <div class=\"colab-df-container\">\n",
              "    <button class=\"colab-df-convert\" onclick=\"convertToInteractive('df-338e7a54-a176-4fd8-991b-93bfc7423a9c')\"\n",
              "            title=\"Convert this dataframe to an interactive table.\"\n",
              "            style=\"display:none;\">\n",
              "\n",
              "  <svg xmlns=\"http://www.w3.org/2000/svg\" height=\"24px\" viewBox=\"0 -960 960 960\">\n",
              "    <path d=\"M120-120v-720h720v720H120Zm60-500h600v-160H180v160Zm220 220h160v-160H400v160Zm0 220h160v-160H400v160ZM180-400h160v-160H180v160Zm440 0h160v-160H620v160ZM180-180h160v-160H180v160Zm440 0h160v-160H620v160Z\"/>\n",
              "  </svg>\n",
              "    </button>\n",
              "\n",
              "  <style>\n",
              "    .colab-df-container {\n",
              "      display:flex;\n",
              "      gap: 12px;\n",
              "    }\n",
              "\n",
              "    .colab-df-convert {\n",
              "      background-color: #E8F0FE;\n",
              "      border: none;\n",
              "      border-radius: 50%;\n",
              "      cursor: pointer;\n",
              "      display: none;\n",
              "      fill: #1967D2;\n",
              "      height: 32px;\n",
              "      padding: 0 0 0 0;\n",
              "      width: 32px;\n",
              "    }\n",
              "\n",
              "    .colab-df-convert:hover {\n",
              "      background-color: #E2EBFA;\n",
              "      box-shadow: 0px 1px 2px rgba(60, 64, 67, 0.3), 0px 1px 3px 1px rgba(60, 64, 67, 0.15);\n",
              "      fill: #174EA6;\n",
              "    }\n",
              "\n",
              "    .colab-df-buttons div {\n",
              "      margin-bottom: 4px;\n",
              "    }\n",
              "\n",
              "    [theme=dark] .colab-df-convert {\n",
              "      background-color: #3B4455;\n",
              "      fill: #D2E3FC;\n",
              "    }\n",
              "\n",
              "    [theme=dark] .colab-df-convert:hover {\n",
              "      background-color: #434B5C;\n",
              "      box-shadow: 0px 1px 3px 1px rgba(0, 0, 0, 0.15);\n",
              "      filter: drop-shadow(0px 1px 2px rgba(0, 0, 0, 0.3));\n",
              "      fill: #FFFFFF;\n",
              "    }\n",
              "  </style>\n",
              "\n",
              "    <script>\n",
              "      const buttonEl =\n",
              "        document.querySelector('#df-338e7a54-a176-4fd8-991b-93bfc7423a9c button.colab-df-convert');\n",
              "      buttonEl.style.display =\n",
              "        google.colab.kernel.accessAllowed ? 'block' : 'none';\n",
              "\n",
              "      async function convertToInteractive(key) {\n",
              "        const element = document.querySelector('#df-338e7a54-a176-4fd8-991b-93bfc7423a9c');\n",
              "        const dataTable =\n",
              "          await google.colab.kernel.invokeFunction('convertToInteractive',\n",
              "                                                    [key], {});\n",
              "        if (!dataTable) return;\n",
              "\n",
              "        const docLinkHtml = 'Like what you see? Visit the ' +\n",
              "          '<a target=\"_blank\" href=https://colab.research.google.com/notebooks/data_table.ipynb>data table notebook</a>'\n",
              "          + ' to learn more about interactive tables.';\n",
              "        element.innerHTML = '';\n",
              "        dataTable['output_type'] = 'display_data';\n",
              "        await google.colab.output.renderOutput(dataTable, element);\n",
              "        const docLink = document.createElement('div');\n",
              "        docLink.innerHTML = docLinkHtml;\n",
              "        element.appendChild(docLink);\n",
              "      }\n",
              "    </script>\n",
              "  </div>\n",
              "\n",
              "\n",
              "<div id=\"df-d80debef-603d-49dc-b319-f49930fa920e\">\n",
              "  <button class=\"colab-df-quickchart\" onclick=\"quickchart('df-d80debef-603d-49dc-b319-f49930fa920e')\"\n",
              "            title=\"Suggest charts\"\n",
              "            style=\"display:none;\">\n",
              "\n",
              "<svg xmlns=\"http://www.w3.org/2000/svg\" height=\"24px\"viewBox=\"0 0 24 24\"\n",
              "     width=\"24px\">\n",
              "    <g>\n",
              "        <path d=\"M19 3H5c-1.1 0-2 .9-2 2v14c0 1.1.9 2 2 2h14c1.1 0 2-.9 2-2V5c0-1.1-.9-2-2-2zM9 17H7v-7h2v7zm4 0h-2V7h2v10zm4 0h-2v-4h2v4z\"/>\n",
              "    </g>\n",
              "</svg>\n",
              "  </button>\n",
              "\n",
              "<style>\n",
              "  .colab-df-quickchart {\n",
              "      --bg-color: #E8F0FE;\n",
              "      --fill-color: #1967D2;\n",
              "      --hover-bg-color: #E2EBFA;\n",
              "      --hover-fill-color: #174EA6;\n",
              "      --disabled-fill-color: #AAA;\n",
              "      --disabled-bg-color: #DDD;\n",
              "  }\n",
              "\n",
              "  [theme=dark] .colab-df-quickchart {\n",
              "      --bg-color: #3B4455;\n",
              "      --fill-color: #D2E3FC;\n",
              "      --hover-bg-color: #434B5C;\n",
              "      --hover-fill-color: #FFFFFF;\n",
              "      --disabled-bg-color: #3B4455;\n",
              "      --disabled-fill-color: #666;\n",
              "  }\n",
              "\n",
              "  .colab-df-quickchart {\n",
              "    background-color: var(--bg-color);\n",
              "    border: none;\n",
              "    border-radius: 50%;\n",
              "    cursor: pointer;\n",
              "    display: none;\n",
              "    fill: var(--fill-color);\n",
              "    height: 32px;\n",
              "    padding: 0;\n",
              "    width: 32px;\n",
              "  }\n",
              "\n",
              "  .colab-df-quickchart:hover {\n",
              "    background-color: var(--hover-bg-color);\n",
              "    box-shadow: 0 1px 2px rgba(60, 64, 67, 0.3), 0 1px 3px 1px rgba(60, 64, 67, 0.15);\n",
              "    fill: var(--button-hover-fill-color);\n",
              "  }\n",
              "\n",
              "  .colab-df-quickchart-complete:disabled,\n",
              "  .colab-df-quickchart-complete:disabled:hover {\n",
              "    background-color: var(--disabled-bg-color);\n",
              "    fill: var(--disabled-fill-color);\n",
              "    box-shadow: none;\n",
              "  }\n",
              "\n",
              "  .colab-df-spinner {\n",
              "    border: 2px solid var(--fill-color);\n",
              "    border-color: transparent;\n",
              "    border-bottom-color: var(--fill-color);\n",
              "    animation:\n",
              "      spin 1s steps(1) infinite;\n",
              "  }\n",
              "\n",
              "  @keyframes spin {\n",
              "    0% {\n",
              "      border-color: transparent;\n",
              "      border-bottom-color: var(--fill-color);\n",
              "      border-left-color: var(--fill-color);\n",
              "    }\n",
              "    20% {\n",
              "      border-color: transparent;\n",
              "      border-left-color: var(--fill-color);\n",
              "      border-top-color: var(--fill-color);\n",
              "    }\n",
              "    30% {\n",
              "      border-color: transparent;\n",
              "      border-left-color: var(--fill-color);\n",
              "      border-top-color: var(--fill-color);\n",
              "      border-right-color: var(--fill-color);\n",
              "    }\n",
              "    40% {\n",
              "      border-color: transparent;\n",
              "      border-right-color: var(--fill-color);\n",
              "      border-top-color: var(--fill-color);\n",
              "    }\n",
              "    60% {\n",
              "      border-color: transparent;\n",
              "      border-right-color: var(--fill-color);\n",
              "    }\n",
              "    80% {\n",
              "      border-color: transparent;\n",
              "      border-right-color: var(--fill-color);\n",
              "      border-bottom-color: var(--fill-color);\n",
              "    }\n",
              "    90% {\n",
              "      border-color: transparent;\n",
              "      border-bottom-color: var(--fill-color);\n",
              "    }\n",
              "  }\n",
              "</style>\n",
              "\n",
              "  <script>\n",
              "    async function quickchart(key) {\n",
              "      const quickchartButtonEl =\n",
              "        document.querySelector('#' + key + ' button');\n",
              "      quickchartButtonEl.disabled = true;  // To prevent multiple clicks.\n",
              "      quickchartButtonEl.classList.add('colab-df-spinner');\n",
              "      try {\n",
              "        const charts = await google.colab.kernel.invokeFunction(\n",
              "            'suggestCharts', [key], {});\n",
              "      } catch (error) {\n",
              "        console.error('Error during call to suggestCharts:', error);\n",
              "      }\n",
              "      quickchartButtonEl.classList.remove('colab-df-spinner');\n",
              "      quickchartButtonEl.classList.add('colab-df-quickchart-complete');\n",
              "    }\n",
              "    (() => {\n",
              "      let quickchartButtonEl =\n",
              "        document.querySelector('#df-d80debef-603d-49dc-b319-f49930fa920e button');\n",
              "      quickchartButtonEl.style.display =\n",
              "        google.colab.kernel.accessAllowed ? 'block' : 'none';\n",
              "    })();\n",
              "  </script>\n",
              "</div>\n",
              "    </div>\n",
              "  </div>\n"
            ]
          },
          "metadata": {},
          "execution_count": 8
        }
      ]
    },
    {
      "cell_type": "markdown",
      "source": [
        "## Some speakers + Music"
      ],
      "metadata": {
        "id": "qcjKvOmT-BWi"
      }
    },
    {
      "cell_type": "code",
      "source": [
        "!spleeter separate -o output/ audio.mp3"
      ],
      "metadata": {
        "id": "wo97GGTG-GLK",
        "colab": {
          "base_uri": "https://localhost:8080/"
        },
        "outputId": "8b690c31-88d3-49a8-bc39-9c94564e2b09"
      },
      "execution_count": null,
      "outputs": [
        {
          "output_type": "stream",
          "name": "stdout",
          "text": [
            "INFO:spleeter:Downloading model archive https://github.com/deezer/spleeter/releases/download/v1.4.0/2stems.tar.gz\n",
            "INFO:spleeter:Validating archive checksum\n",
            "INFO:spleeter:Extracting downloaded 2stems archive\n",
            "INFO:spleeter:2stems model file(s) extracted\n",
            "INFO:spleeter:File output/audio/vocals.wav written succesfully\n",
            "INFO:spleeter:File output/audio/accompaniment.wav written succesfully\n"
          ]
        }
      ]
    },
    {
      "cell_type": "code",
      "source": [
        "def convert_wav_to_mp3(input_wav, output_mp3):\n",
        "    # Загрузка WAV файла\n",
        "    sound = AudioSegment.from_wav(input_wav)\n",
        "\n",
        "    # Сохранение в MP3 формат\n",
        "    sound.export(output_mp3, format=\"mp3\")\n",
        "\n",
        "# Пример использования\n",
        "input_wav = \"/content/output/audio/vocals.wav\"\n",
        "output_mp3 = \"vocals.mp3\"\n",
        "\n",
        "convert_wav_to_mp3(input_wav, output_mp3)"
      ],
      "metadata": {
        "id": "3VGtjuKKkwzk"
      },
      "execution_count": null,
      "outputs": []
    },
    {
      "cell_type": "code",
      "source": [
        "if not os.path.exists('audio_files'):\n",
        "    os.mkdir('audio_files')\n",
        "\n",
        "def text_to_speech_and_save(text, filename, gpt_cond_latent, speaker_embedding, index):\n",
        "    string = text\n",
        "\n",
        "    out = model.inference(\n",
        "        string.replace('.', '').capitalize(),\n",
        "        target_language_code,\n",
        "        gpt_cond_latent,\n",
        "        speaker_embedding,\n",
        "        temperature=0.8, # Add custom parameters here\n",
        "    )\n",
        "    torchaudio.save(f\"out1.wav\", torch.tensor(out[\"wav\"]).unsqueeze(0), 24000)\n",
        "\n",
        "    audio_file = \"/content/out1.wav\"\n",
        "    AudioSegment.from_wav(f\"/content/out1.wav\").export(f'/content/out0.mp3', format=\"mp3\")\n",
        "\n",
        "    audio_file = \"out0.mp3\"\n",
        "    audio = AudioSegment.from_file(audio_file, format=\"mp3\")\n",
        "    segments = split_on_silence(audio, min_silence_len=500, silence_thresh=-50)\n",
        "    if len(segments) > 0:\n",
        "      output = segments[0]\n",
        "      for segment in segments[1:]:\n",
        "          output += segment\n",
        "    else:\n",
        "        output = AudioSegment.silent(duration=df.end[index] - df.start[index])\n",
        "\n",
        "    if len(output) < df.end[index] - df.start[index]:\n",
        "        output += AudioSegment.silent(duration=df.end[index] - df.start[index])\n",
        "    print(len(output))\n",
        "    output.export(filename, format=\"mp3\")\n",
        "\n",
        "def get_conditioning_latents(audio_path):\n",
        "    print(\"Computing speaker latents...\")\n",
        "    gpt_cond_latent, speaker_embedding = model.get_conditioning_latents(audio_path=audio_path)\n",
        "    return gpt_cond_latent, speaker_embedding\n",
        "\n",
        "# Определите общую длительность аудио, чтобы создать пустую дорожку\n",
        "total_duration = df['end'].max()\n",
        "\n",
        "# Создайте начальную пустую аудиофайл\n",
        "combined_audio = AudioSegment.silent(duration=total_duration)\n",
        "\n",
        "# Перебирайте фразы и вставляйте их в новую дорожку с учетом времени начала\n",
        "for index, row in df.iterrows():\n",
        "    text = row['translated']\n",
        "    start_time = row['start']\n",
        "    end_time = row['end']\n",
        "\n",
        "    # Вырезаем отрезок аудио с помощью pydub и сохраняем в WAV\n",
        "    input_audio_path = '/content/vocals.mp3'  # Замените путь на ваш оригинальный аудиофайл\n",
        "    output_audio_path = f'audio_files/audio_{index}.mp3'\n",
        "\n",
        "    original_audio = AudioSegment.from_mp3(input_audio_path)\n",
        "    segment = original_audio[start_time:end_time]  # Преобразование секунд в миллисекунды\n",
        "    segment.export(output_audio_path, format=\"mp3\")\n",
        "\n",
        "    # Получаем speaker latents\n",
        "    audio_path = [output_audio_path]\n",
        "    gpt_cond_latent, speaker_embedding = get_conditioning_latents(audio_path)\n",
        "\n",
        "    # Преобразуем текст в речь и сохраняем\n",
        "    text_to_speech_and_save(text, output_audio_path, gpt_cond_latent, speaker_embedding,index)\n",
        "\n",
        "    print(f'Фраза {index}: \"{text}\" сохранена в {output_audio_path}')\n",
        "\n",
        "    # Загрузите аудиофайл\n",
        "    audio = AudioSegment.from_mp3(output_audio_path)\n",
        "\n",
        "    # Определите длительность фразы\n",
        "    duration = end_time - start_time\n",
        "\n",
        "    # Попробуйте выполнить код, если возникает ошибка - пропустите ее\n",
        "    try:\n",
        "        # Проверка на ненулевой и положительный duration перед делением\n",
        "        if duration > 0:\n",
        "            speedup_factor = len(audio) / duration\n",
        "\n",
        "            # Проверка на ненулевой speedup_factor\n",
        "            if speedup_factor != 0:\n",
        "                audio = audio.speedup(playback_speed=speedup_factor)\n",
        "                print(speedup_factor)\n",
        "            # Вставьте аудио на пустую дорожку\n",
        "            combined_audio = combined_audio.overlay(audio, position=start_time)\n",
        "            print(output_audio_path)\n",
        "    except ZeroDivisionError:\n",
        "        print(f\"Пропускаем файл {output_audio_path}, так как произошла ошибка деления на ноль\")\n",
        "\n",
        "# Сохраните новую звуковую дорожку\n",
        "combined_audio.export('combined_audio.mp3', format='mp3')\n"
      ],
      "metadata": {
        "id": "2wZ5jjIlhdhw",
        "colab": {
          "base_uri": "https://localhost:8080/"
        },
        "outputId": "ecdc996d-b86d-4062-80ea-1eb6a7eb22d2"
      },
      "execution_count": null,
      "outputs": [
        {
          "output_type": "stream",
          "name": "stdout",
          "text": [
            "Computing speaker latents...\n",
            "9941\n",
            "Фраза 0: \"Another day behind the teams\" сохранена в audio_files/audio_0.mp3\n",
            "1.242625\n",
            "audio_files/audio_0.mp3\n",
            "Computing speaker latents...\n",
            "4827\n",
            "Фраза 1: \"Come on quickly, don’t delay the result\" сохранена в audio_files/audio_1.mp3\n",
            "1.9308\n",
            "audio_files/audio_1.mp3\n",
            "Computing speaker latents...\n",
            "3296\n",
            "Фраза 2: \"Experts are in touch, trackers too\" сохранена в audio_files/audio_2.mp3\n",
            "1.3184\n",
            "audio_files/audio_2.mp3\n",
            "Computing speaker latents...\n",
            "2923\n",
            "Фраза 3: \"Our hocoton is like a race\" сохранена в audio_files/audio_3.mp3\n",
            "1.1692\n",
            "audio_files/audio_3.mp3\n",
            "Computing speaker latents...\n",
            "3893\n",
            "Фраза 4: \"You haven't slept for 24 hours, your brain is like a motor\" сохранена в audio_files/audio_4.mp3\n",
            "1.9465\n",
            "audio_files/audio_4.mp3\n",
            "Computing speaker latents...\n",
            "3381\n",
            "Фраза 5: \"The stream of thoughts is buzzing that the higher was fast\" сохранена в audio_files/audio_5.mp3\n",
            "1.3524\n",
            "audio_files/audio_5.mp3\n",
            "Computing speaker latents...\n",
            "3008\n",
            "Фраза 6: \"Moving forward is the main task\" сохранена в audio_files/audio_6.mp3\n",
            "1.2032\n",
            "audio_files/audio_6.mp3\n",
            "Computing speaker latents...\n",
            "2645\n",
            "Фраза 7: \"Skills and a little luck are important here\" сохранена в audio_files/audio_7.mp3\n",
            "1.058\n",
            "audio_files/audio_7.mp3\n",
            "Computing speaker latents...\n",
            "3379\n",
            "Фраза 8: \"Will you win or will your neighbor win?\" сохранена в audio_files/audio_8.mp3\n",
            "1.3516\n",
            "audio_files/audio_8.mp3\n",
            "Computing speaker latents...\n",
            "3154\n",
            "Фраза 9: \"It doesn't matter, there are no losers here\" сохранена в audio_files/audio_9.mp3\n",
            "1.577\n",
            "audio_files/audio_9.mp3\n",
            "Computing speaker latents...\n",
            "4911\n",
            "Фраза 10: \"All these movements are for your benefit\" сохранена в audio_files/audio_10.mp3\n",
            "1.9644\n",
            "audio_files/audio_10.mp3\n",
            "Computing speaker latents...\n",
            "2645\n",
            "Фраза 11: \"In the meantime, go through checkpoint three\" сохранена в audio_files/audio_11.mp3\n",
            "1.058\n",
            "audio_files/audio_11.mp3\n",
            "Computing speaker latents...\n",
            "3159\n",
            "Фраза 12: \"Checkpoint three, checkpoint three\" сохранена в audio_files/audio_12.mp3\n",
            "1.2636\n",
            "audio_files/audio_12.mp3\n"
          ]
        },
        {
          "output_type": "execute_result",
          "data": {
            "text/plain": [
              "<_io.BufferedRandom name='combined_audio.mp3'>"
            ]
          },
          "metadata": {},
          "execution_count": 11
        }
      ]
    },
    {
      "cell_type": "markdown",
      "source": [
        "## gluing audio and video"
      ],
      "metadata": {
        "id": "zT5jFcJw9Itm"
      }
    },
    {
      "cell_type": "code",
      "source": [
        "import locale\n",
        "locale.getpreferredencoding = lambda: \"UTF-8\""
      ],
      "metadata": {
        "id": "Pbbl1GQT8nkV"
      },
      "execution_count": null,
      "outputs": []
    },
    {
      "cell_type": "code",
      "source": [
        "!ffmpeg -i \"/content/output/audio/accompaniment.wav\" -i \"/content/combined_audio.mp3\" -filter_complex amix=inputs=2:duration=first:dropout_transition=3 \"output.mp3\" -y"
      ],
      "metadata": {
        "id": "E6TRfWqQ-ESb"
      },
      "execution_count": null,
      "outputs": []
    },
    {
      "cell_type": "code",
      "source": [
        "!ffmpeg -i \"/content/drive/MyDrive/vids/13.mp4\" -i \"output.mp3\" -filter_complex \"[0:a]volume=0.0[v0];[1:a]volume=2.0[v1];[v0][v1]amix=inputs=2:duration=first\" -c:v copy -c:a aac -strict experimental \"/content/translated_output.mp4\""
      ],
      "metadata": {
        "id": "-_L8qnNA_89t"
      },
      "execution_count": null,
      "outputs": []
    },
    {
      "cell_type": "code",
      "source": [
        "df = df[['start', 'end','translated']]"
      ],
      "metadata": {
        "id": "qS8AiWiPLOFU"
      },
      "execution_count": null,
      "outputs": []
    },
    {
      "cell_type": "code",
      "source": [
        "df.to_csv('data.csv')"
      ],
      "metadata": {
        "id": "s5HomxEiK0Q5"
      },
      "execution_count": null,
      "outputs": []
    },
    {
      "cell_type": "markdown",
      "source": [
        "## One voice"
      ],
      "metadata": {
        "id": "8E-wLBKgZE59"
      }
    },
    {
      "cell_type": "code",
      "execution_count": null,
      "metadata": {
        "id": "dGL-k5xxoKbu",
        "colab": {
          "base_uri": "https://localhost:8080/"
        },
        "outputId": "4b7f54b5-95c0-46c1-bf40-a698a87752df"
      },
      "outputs": [
        {
          "output_type": "stream",
          "name": "stdout",
          "text": [
            "INFO:spleeter:File output/audio/vocals.wav written succesfully\n",
            "INFO:spleeter:File output/audio/accompaniment.wav written succesfully\n"
          ]
        }
      ],
      "source": [
        "!spleeter separate -o output/ audio.mp3"
      ]
    },
    {
      "cell_type": "code",
      "source": [
        "print(\"Computing speaker latents...\")\n",
        "gpt_cond_latent, speaker_embedding = model.get_conditioning_latents(audio_path=['/content/output/audio/vocals.wav'])"
      ],
      "metadata": {
        "id": "mQbi_jsjQ5w9",
        "colab": {
          "base_uri": "https://localhost:8080/"
        },
        "outputId": "567783fc-d3f9-42ea-cfcd-efe8f51e2142"
      },
      "execution_count": null,
      "outputs": [
        {
          "output_type": "stream",
          "name": "stdout",
          "text": [
            "Computing speaker latents...\n"
          ]
        }
      ]
    },
    {
      "cell_type": "code",
      "source": [
        "from gtts import gTTS\n",
        "import pandas as pd\n",
        "import os\n",
        "\n",
        "if not os.path.exists('audio_files'):\n",
        "    os.mkdir('audio_files')\n",
        "\n",
        "def text_to_speech_and_save(text, filename, gpt_cond_latent, speaker_embedding):\n",
        "  out = model.inference(\n",
        "    text.replace(',', '.'),\n",
        "    \"en\",\n",
        "    gpt_cond_latent,\n",
        "    speaker_embedding,\n",
        "    temperature=0.8,\n",
        "  )\n",
        "  torchaudio.save(\"/content/out.wav\", torch.tensor(out[\"wav\"]).unsqueeze(0), 24000)\n",
        "\n",
        "  AudioSegment.from_wav(\"/content/out.wav\").export(filename, format=\"mp3\")\n",
        "\n",
        "for index, row in df.iterrows():\n",
        "    text = row['translated']\n",
        "    start_time = row['start']\n",
        "    end_time = row['end']\n",
        "\n",
        "\n",
        "\n",
        "    filename = f'audio_files/audio_{index}.mp3'\n",
        "    text_to_speech_and_save(text, filename,gpt_cond_latent, speaker_embedding)\n",
        "\n",
        "    print(f'Фраза {index}: \"{text}\" сохранена в {filename}')\n"
      ],
      "metadata": {
        "id": "gq_e0n9fh_24"
      },
      "execution_count": null,
      "outputs": []
    },
    {
      "cell_type": "code",
      "source": [
        "from pydub import AudioSegment\n",
        "import pandas as pd\n",
        "\n",
        "\n",
        "# Определите общую длительность аудио, чтобы создать пустую дорожку\n",
        "total_duration = df['end'].max()\n",
        "\n",
        "# Создайте начальную пустую аудиофайл\n",
        "combined_audio = AudioSegment.silent(duration=total_duration)\n",
        "\n",
        "# Перебирайте фразы и вставляйте их в новую дорожку с учетом времени начала\n",
        "for index, row in df.iterrows():\n",
        "    text = row['translated']\n",
        "    start_time = row['start']\n",
        "    end_time = row['end']\n",
        "\n",
        "    audio_filename = f'audio_files/audio_{index}.mp3'\n",
        "\n",
        "    # Загрузите аудиофайл\n",
        "    audio = AudioSegment.from_mp3(audio_filename)\n",
        "\n",
        "    # Определите длительность фразы\n",
        "    duration = end_time - start_time\n",
        "\n",
        "    speedup_factor = len(audio) / duration\n",
        "\n",
        "    audio = audio.speedup(playback_speed=speedup_factor)\n",
        "\n",
        "    # Вставьте аудио на пустую дорожку\n",
        "    combined_audio = combined_audio.overlay(audio, position=start_time)\n",
        "    print(audio_filename)\n",
        "\n",
        "# Сохраните новую звуковую дорожку\n",
        "combined_audio.export('combined_audio.mp3', format='mp3')"
      ],
      "metadata": {
        "id": "5lvQZRh80UUg"
      },
      "execution_count": null,
      "outputs": []
    },
    {
      "cell_type": "code",
      "source": [
        "import locale\n",
        "locale.getpreferredencoding = lambda: \"UTF-8\""
      ],
      "metadata": {
        "id": "zrG2pI9Hc8qh"
      },
      "execution_count": null,
      "outputs": []
    },
    {
      "cell_type": "code",
      "source": [
        "!ffmpeg -i \"/content/output/audio/accompaniment.wav\" -i \"/content/combined_audio.mp3\" -filter_complex amix=inputs=2:duration=first:dropout_transition=3 \"output.mp3\" -y"
      ],
      "metadata": {
        "id": "6eVl7mV3c8qi"
      },
      "execution_count": null,
      "outputs": []
    },
    {
      "cell_type": "code",
      "source": [
        "!ffmpeg -i \"/content/drive/MyDrive/vids/16.mp4\" -i \"output.mp3\" -filter_complex \"[0:a]volume=0.0[v0];[1:a]volume=2.0[v1];[v0][v1]amix=inputs=2:duration=first\" -c:v copy -c:a aac -strict experimental \"/content/output16.mp4\""
      ],
      "metadata": {
        "id": "veHX3oOGc8qi"
      },
      "execution_count": null,
      "outputs": []
    },
    {
      "cell_type": "code",
      "source": [
        "df = df[['start', 'end','translated']]"
      ],
      "metadata": {
        "id": "RlC5Yokzc8qj"
      },
      "execution_count": null,
      "outputs": []
    },
    {
      "cell_type": "code",
      "source": [
        "df.to_csv('data.csv')"
      ],
      "metadata": {
        "id": "5DIaceE6c8qk"
      },
      "execution_count": null,
      "outputs": []
    },
    {
      "cell_type": "markdown",
      "source": [
        "## Google Speech"
      ],
      "metadata": {
        "id": "-fs2uteC6MJe"
      }
    },
    {
      "cell_type": "code",
      "source": [
        "from gtts import gTTS\n",
        "import pandas as pd\n",
        "import os\n",
        "\n",
        "if not os.path.exists('audio_files'):\n",
        "    os.mkdir('audio_files')\n",
        "\n",
        "def text_to_speech_and_save(text, filename):\n",
        "    tts = gTTS(text, lang='en', tld='com', slow=False)\n",
        "    tts.save(filename)\n",
        "\n",
        "for index, row in df.iterrows():\n",
        "    text = row['translated']\n",
        "    start_time = row['start']\n",
        "    end_time = row['end']\n",
        "\n",
        "    filename = f'audio_files/audio_{index}.mp3'\n",
        "    text_to_speech_and_save(text, filename)\n",
        "\n",
        "    print(f'Фраза {index}: \"{text}\" сохранена в {filename}')\n"
      ],
      "metadata": {
        "id": "5hLbb5t35eOx"
      },
      "execution_count": null,
      "outputs": []
    },
    {
      "cell_type": "code",
      "source": [
        "from pydub import AudioSegment\n",
        "import pandas as pd\n",
        "\n",
        "\n",
        "# Определите общую длительность аудио, чтобы создать пустую дорожку\n",
        "total_duration = df['end'].max()\n",
        "\n",
        "# Создайте начальную пустую аудиофайл\n",
        "combined_audio = AudioSegment.silent(duration=total_duration)\n",
        "\n",
        "# Перебирайте фразы и вставляйте их в новую дорожку с учетом времени начала\n",
        "for index, row in df.iterrows():\n",
        "    text = row['translated']\n",
        "    start_time = row['start']\n",
        "    end_time = row['end']\n",
        "\n",
        "    audio_filename = f'audio_files/audio_{index}.mp3'\n",
        "\n",
        "    # Загрузите аудиофайл\n",
        "    audio = AudioSegment.from_mp3(audio_filename)\n",
        "\n",
        "    # Определите длительность фразы\n",
        "    duration = end_time - start_time\n",
        "\n",
        "    if len(audio) > duration:\n",
        "        # Если аудиофайл длиннее, ускорьте его\n",
        "        speedup_factor = len(audio) / duration\n",
        "        audio = audio.speedup(playback_speed=speedup_factor)\n",
        "\n",
        "    # Вставьте аудио на пустую дорожку\n",
        "    combined_audio = combined_audio.overlay(audio, position=start_time)\n",
        "\n",
        "# Сохраните новую звуковую дорожку\n",
        "combined_audio.export('combined_audio.mp3', format='mp3')\n"
      ],
      "metadata": {
        "id": "xPjFOhZPlptS"
      },
      "execution_count": null,
      "outputs": []
    },
    {
      "cell_type": "code",
      "source": [
        "import locale\n",
        "locale.getpreferredencoding = lambda: \"UTF-8\""
      ],
      "metadata": {
        "id": "WqAGyns-66tl"
      },
      "execution_count": null,
      "outputs": []
    },
    {
      "cell_type": "code",
      "source": [
        "!ffmpeg -i \"/content/drive/MyDrive/Hak_Rutube/51.mp4\" -i \"combined_audio.mp3\" -filter_complex \"[0:a]volume=0.0[v0];[1:a]volume=1.0[v1];[v0][v1]amix=inputs=2:duration=first\" -c:v copy -c:a aac -strict experimental \"/content/final_video_combined2.mp4\""
      ],
      "metadata": {
        "id": "MNUNtxeA66tl"
      },
      "execution_count": null,
      "outputs": []
    },
    {
      "cell_type": "markdown",
      "source": [
        "## Lips sync"
      ],
      "metadata": {
        "id": "Y6PXUuGY17tj"
      }
    },
    {
      "cell_type": "code",
      "source": [
        "import torch\n",
        "\n",
        "try:\n",
        "    del tts\n",
        "except NameError:\n",
        "    print(\"Voice model already deleted\")\n",
        "\n",
        "try:\n",
        "    del model\n",
        "except NameError:\n",
        "    print(\"Whisper model already deleted\")\n",
        "\n",
        "torch.cuda.empty_cache()"
      ],
      "metadata": {
        "id": "HD6cZIMklwZf"
      },
      "execution_count": null,
      "outputs": []
    },
    {
      "cell_type": "code",
      "source": [
        "!git clone https://github.com/ajay-sainy/Wav2Lip-GFPGAN.git\n",
        "basePath = \"/content/Wav2Lip-GFPGAN\"\n",
        "%cd {basePath}"
      ],
      "metadata": {
        "id": "3wqZDI6T19qP"
      },
      "execution_count": null,
      "outputs": []
    },
    {
      "cell_type": "code",
      "source": [
        "wav2lipFolderName = 'Wav2Lip-master'\n",
        "gfpganFolderName = 'GFPGAN-master'\n",
        "wav2lipPath = basePath + '/' + wav2lipFolderName\n",
        "gfpganPath = basePath + '/' + gfpganFolderName\n",
        "\n",
        "!wget 'https://www.adrianbulat.com/downloads/python-fan/s3fd-619a316812.pth' -O {wav2lipPath}'/face_detection/detection/sfd/s3fd.pth'\n",
        "!gdown https://drive.google.com/uc?id=1fQtBSYEyuai9MjBOF8j7zZ4oQ9W2N64q --output {wav2lipPath}'/checkpoints/'"
      ],
      "metadata": {
        "id": "X0Gfqa8Q2HBy"
      },
      "execution_count": null,
      "outputs": []
    },
    {
      "cell_type": "code",
      "source": [
        "wav2lipFolderName = 'Wav2Lip-master'\n",
        "gfpganFolderName = 'GFPGAN-master'\n",
        "wav2lipPath = basePath + '/' + wav2lipFolderName\n",
        "gfpganPath = basePath + '/' + gfpganFolderName\n",
        "\n",
        "!wget 'https://www.adrianbulat.com/downloads/python-fan/s3fd-619a316812.pth' -O {wav2lipPath}'/face_detection/detection/sfd/s3fd.pth'\n",
        "!gdown https://drive.google.com/uc?id=1fQtBSYEyuai9MjBOF8j7zZ4oQ9W2N64q --output {wav2lipPath}'/checkpoints/'"
      ],
      "metadata": {
        "id": "jtcE3Ttj2I-C"
      },
      "execution_count": null,
      "outputs": []
    },
    {
      "cell_type": "code",
      "source": [
        "!pip install -r requirements.txt"
      ],
      "metadata": {
        "id": "a2IueSEa2Kx4"
      },
      "execution_count": null,
      "outputs": []
    },
    {
      "cell_type": "code",
      "source": [
        "import os\n",
        "outputPath = basePath+'/outputs'\n",
        "inputAudioPath = '/content/drive/MyDrive/data/audios/audio1.mp3'\n",
        "inputVideoPath = '/content/drive/MyDrive/data/videos/test_video.mp4'\n",
        "lipSyncedOutputPath = basePath + '/outputs/result.mp4'\n",
        "\n",
        "if not os.path.exists(outputPath):\n",
        "  os.makedirs(outputPath)\n",
        "\n",
        "!cd $wav2lipFolderName && python inference.py \\\n",
        "--checkpoint_path checkpoints/wav2lip.pth \\\n",
        "--face {inputVideoPath} \\\n",
        "--audio {inputAudioPath} \\\n",
        "--outfile {lipSyncedOutputPath}"
      ],
      "metadata": {
        "id": "immpBn6p2Rzd"
      },
      "execution_count": null,
      "outputs": []
    },
    {
      "cell_type": "code",
      "source": [
        "!cd $gfpganFolderName && python setup.py develop\n",
        "!wget https://github.com/TencentARC/GFPGAN/releases/download/v1.3.0/GFPGANv1.3.pth -P {gfpganFolderName}'/experiments/pretrained_models'"
      ],
      "metadata": {
        "id": "KEK-DnSI2dpv"
      },
      "execution_count": null,
      "outputs": []
    },
    {
      "cell_type": "code",
      "source": [
        "import cv2\n",
        "from tqdm import tqdm\n",
        "from os import path\n",
        "\n",
        "import os\n",
        "\n",
        "inputVideoPath = outputPath+'/result.mp4'\n",
        "unProcessedFramesFolderPath = outputPath+'/frames'\n",
        "\n",
        "if not os.path.exists(unProcessedFramesFolderPath):\n",
        "  os.makedirs(unProcessedFramesFolderPath)\n",
        "\n",
        "vidcap = cv2.VideoCapture(inputVideoPath)\n",
        "numberOfFrames = int(vidcap.get(cv2.CAP_PROP_FRAME_COUNT))\n",
        "fps = vidcap.get(cv2.CAP_PROP_FPS)\n",
        "print(\"FPS: \", fps, \"Frames: \", numberOfFrames)\n",
        "\n",
        "for frameNumber in tqdm(range(numberOfFrames)):\n",
        "    _,image = vidcap.read()\n",
        "    cv2.imwrite(path.join(unProcessedFramesFolderPath, str(frameNumber).zfill(4)+'.jpg'), image)\n"
      ],
      "metadata": {
        "id": "3yfRcqGp2hPl"
      },
      "execution_count": null,
      "outputs": []
    },
    {
      "cell_type": "code",
      "source": [
        "!cd $gfpganFolderName && \\\n",
        "  python inference_gfpgan.py -i $unProcessedFramesFolderPath -o $outputPath -v 1.3 -s 2 --only_center_face --bg_upsampler None"
      ],
      "metadata": {
        "id": "vEriTlL_2jih"
      },
      "execution_count": null,
      "outputs": []
    },
    {
      "cell_type": "code",
      "source": [
        "import os\n",
        "restoredFramesPath = outputPath + '/restored_imgs/'\n",
        "processedVideoOutputPath = outputPath\n",
        "\n",
        "dir_list = os.listdir(restoredFramesPath)\n",
        "dir_list.sort()\n",
        "\n",
        "import cv2\n",
        "import numpy as np\n",
        "\n",
        "batch = 0\n",
        "batchSize = 300\n",
        "from tqdm import tqdm\n",
        "for i in tqdm(range(0, len(dir_list), batchSize)):\n",
        "  img_array = []\n",
        "  start, end = i, i+batchSize\n",
        "  print(\"processing \", start, end)\n",
        "  for filename in  tqdm(dir_list[start:end]):\n",
        "      filename = restoredFramesPath+filename;\n",
        "      img = cv2.imread(filename)\n",
        "      if img is None:\n",
        "        continue\n",
        "      height, width, layers = img.shape\n",
        "      size = (width,height)\n",
        "      img_array.append(img)\n",
        "\n",
        "\n",
        "  out = cv2.VideoWriter(processedVideoOutputPath+'/batch_'+str(batch).zfill(4)+'.avi',cv2.VideoWriter_fourcc(*'DIVX'), 30, size)\n",
        "  batch = batch + 1\n",
        "\n",
        "  for i in range(len(img_array)):\n",
        "    out.write(img_array[i])\n",
        "  out.release()\n"
      ],
      "metadata": {
        "id": "13-RAALe2spT"
      },
      "execution_count": null,
      "outputs": []
    },
    {
      "cell_type": "code",
      "source": [
        "concatTextFilePath = outputPath + \"/concat.txt\"\n",
        "concatTextFile=open(concatTextFilePath,\"w\")\n",
        "for ips in range(batch):\n",
        "  concatTextFile.write(\"file batch_\" + str(ips).zfill(4) + \".avi\\n\")\n",
        "concatTextFile.close()\n",
        "\n",
        "concatedVideoOutputPath = outputPath + \"/concated_output.avi\"\n",
        "!ffmpeg -y -f concat -i {concatTextFilePath} -c copy {concatedVideoOutputPath}\n",
        "\n",
        "finalProcessedOuputVideo = processedVideoOutputPath+'/final_with_audio.avi'\n",
        "!ffmpeg -y -i {concatedVideoOutputPath} -i {inputAudioPath} -map 0 -map 1:a -c:v copy -shortest {finalProcessedOuputVideo}\n",
        "\n",
        "from google.colab import files\n",
        "files.download(finalProcessedOuputVideo)"
      ],
      "metadata": {
        "id": "8KmLz6G42uug"
      },
      "execution_count": null,
      "outputs": []
    },
    {
      "cell_type": "code",
      "source": [],
      "metadata": {
        "id": "SVIbYmWq2wdp"
      },
      "execution_count": null,
      "outputs": []
    }
  ]
}